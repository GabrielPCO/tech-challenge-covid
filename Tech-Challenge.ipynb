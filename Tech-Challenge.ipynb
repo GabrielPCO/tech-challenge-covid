{
 "cells": [
  {
   "cell_type": "code",
   "execution_count": 1,
   "metadata": {},
   "outputs": [],
   "source": [
    "#!pip install psycopg2"
   ]
  },
  {
   "cell_type": "code",
   "execution_count": 1,
   "metadata": {},
   "outputs": [],
   "source": [
    "import pandas as pd\n",
    "import pandas.io.sql as sqlio\n",
    "import psycopg2 as ps"
   ]
  },
  {
   "cell_type": "code",
   "execution_count": 2,
   "metadata": {},
   "outputs": [],
   "source": [
    "conn = ps.connect(\n",
    "    dbname = 'postgres',\n",
    "    user = 'postgres',\n",
    "    password = 'Castro@1990',\n",
    "    host = 'localhost',\n",
    "    port = '5432'\n",
    ")"
   ]
  },
  {
   "cell_type": "code",
   "execution_count": 3,
   "metadata": {},
   "outputs": [],
   "source": [
    "sql = \"\"\"\n",
    "SELECT * FROM dbo.pnad2020\n",
    "\"\"\""
   ]
  },
  {
   "cell_type": "code",
   "execution_count": 4,
   "metadata": {},
   "outputs": [
    {
     "name": "stderr",
     "output_type": "stream",
     "text": [
      "C:\\Users\\Gabriel\\AppData\\Local\\Temp\\ipykernel_24480\\1657119978.py:1: UserWarning: pandas only supports SQLAlchemy connectable (engine/connection) or database string URI or sqlite3 DBAPI2 connection. Other DBAPI2 objects are not tested. Please consider using SQLAlchemy.\n",
      "  df_01 = sqlio.read_sql_query(sql, conn)\n"
     ]
    }
   ],
   "source": [
    "df_01 = sqlio.read_sql_query(sql, conn)"
   ]
  },
  {
   "cell_type": "code",
   "execution_count": 5,
   "metadata": {},
   "outputs": [
    {
     "data": {
      "text/html": [
       "<div>\n",
       "<style scoped>\n",
       "    .dataframe tbody tr th:only-of-type {\n",
       "        vertical-align: middle;\n",
       "    }\n",
       "\n",
       "    .dataframe tbody tr th {\n",
       "        vertical-align: top;\n",
       "    }\n",
       "\n",
       "    .dataframe thead th {\n",
       "        text-align: right;\n",
       "    }\n",
       "</style>\n",
       "<table border=\"1\" class=\"dataframe\">\n",
       "  <thead>\n",
       "    <tr style=\"text-align: right;\">\n",
       "      <th></th>\n",
       "      <th>ano</th>\n",
       "      <th>uf</th>\n",
       "      <th>capital</th>\n",
       "      <th>rm_ride</th>\n",
       "      <th>v1008</th>\n",
       "      <th>v1012</th>\n",
       "      <th>v1013</th>\n",
       "      <th>v1016</th>\n",
       "      <th>estrato</th>\n",
       "      <th>upa</th>\n",
       "      <th>...</th>\n",
       "      <th>f002a1</th>\n",
       "      <th>f002a2</th>\n",
       "      <th>f002a3</th>\n",
       "      <th>f002a4</th>\n",
       "      <th>f002a5</th>\n",
       "      <th>f0061</th>\n",
       "      <th>f006</th>\n",
       "      <th>a006a</th>\n",
       "      <th>a006b</th>\n",
       "      <th>a007a</th>\n",
       "    </tr>\n",
       "  </thead>\n",
       "  <tbody>\n",
       "    <tr>\n",
       "      <th>0</th>\n",
       "      <td>2020</td>\n",
       "      <td>11</td>\n",
       "      <td>11</td>\n",
       "      <td>None</td>\n",
       "      <td>1</td>\n",
       "      <td>4</td>\n",
       "      <td>9</td>\n",
       "      <td>5</td>\n",
       "      <td>1110011</td>\n",
       "      <td>110015970</td>\n",
       "      <td>...</td>\n",
       "      <td>1</td>\n",
       "      <td>1</td>\n",
       "      <td>1</td>\n",
       "      <td>2</td>\n",
       "      <td>1</td>\n",
       "      <td>1</td>\n",
       "      <td>1</td>\n",
       "      <td>None</td>\n",
       "      <td>None</td>\n",
       "      <td>None</td>\n",
       "    </tr>\n",
       "    <tr>\n",
       "      <th>1</th>\n",
       "      <td>2020</td>\n",
       "      <td>11</td>\n",
       "      <td>11</td>\n",
       "      <td>None</td>\n",
       "      <td>1</td>\n",
       "      <td>4</td>\n",
       "      <td>9</td>\n",
       "      <td>5</td>\n",
       "      <td>1110011</td>\n",
       "      <td>110015970</td>\n",
       "      <td>...</td>\n",
       "      <td>1</td>\n",
       "      <td>1</td>\n",
       "      <td>1</td>\n",
       "      <td>2</td>\n",
       "      <td>1</td>\n",
       "      <td>1</td>\n",
       "      <td>1</td>\n",
       "      <td>None</td>\n",
       "      <td>None</td>\n",
       "      <td>None</td>\n",
       "    </tr>\n",
       "    <tr>\n",
       "      <th>2</th>\n",
       "      <td>2020</td>\n",
       "      <td>11</td>\n",
       "      <td>11</td>\n",
       "      <td>None</td>\n",
       "      <td>1</td>\n",
       "      <td>4</td>\n",
       "      <td>9</td>\n",
       "      <td>5</td>\n",
       "      <td>1110011</td>\n",
       "      <td>110015970</td>\n",
       "      <td>...</td>\n",
       "      <td>1</td>\n",
       "      <td>1</td>\n",
       "      <td>1</td>\n",
       "      <td>2</td>\n",
       "      <td>1</td>\n",
       "      <td>1</td>\n",
       "      <td>1</td>\n",
       "      <td>None</td>\n",
       "      <td>None</td>\n",
       "      <td>None</td>\n",
       "    </tr>\n",
       "    <tr>\n",
       "      <th>3</th>\n",
       "      <td>2020</td>\n",
       "      <td>11</td>\n",
       "      <td>11</td>\n",
       "      <td>None</td>\n",
       "      <td>1</td>\n",
       "      <td>4</td>\n",
       "      <td>9</td>\n",
       "      <td>5</td>\n",
       "      <td>1110011</td>\n",
       "      <td>110015970</td>\n",
       "      <td>...</td>\n",
       "      <td>1</td>\n",
       "      <td>1</td>\n",
       "      <td>1</td>\n",
       "      <td>2</td>\n",
       "      <td>1</td>\n",
       "      <td>1</td>\n",
       "      <td>1</td>\n",
       "      <td>None</td>\n",
       "      <td>None</td>\n",
       "      <td>None</td>\n",
       "    </tr>\n",
       "    <tr>\n",
       "      <th>4</th>\n",
       "      <td>2020</td>\n",
       "      <td>11</td>\n",
       "      <td>11</td>\n",
       "      <td>None</td>\n",
       "      <td>2</td>\n",
       "      <td>1</td>\n",
       "      <td>9</td>\n",
       "      <td>5</td>\n",
       "      <td>1110011</td>\n",
       "      <td>110015970</td>\n",
       "      <td>...</td>\n",
       "      <td>1</td>\n",
       "      <td>1</td>\n",
       "      <td>1</td>\n",
       "      <td>2</td>\n",
       "      <td>1</td>\n",
       "      <td>1</td>\n",
       "      <td>1</td>\n",
       "      <td>None</td>\n",
       "      <td>None</td>\n",
       "      <td>None</td>\n",
       "    </tr>\n",
       "  </tbody>\n",
       "</table>\n",
       "<p>5 rows × 148 columns</p>\n",
       "</div>"
      ],
      "text/plain": [
       "    ano  uf capital rm_ride v1008 v1012 v1013 v1016  estrato        upa  ...   \n",
       "0  2020  11      11    None     1     4     9     5  1110011  110015970  ...  \\\n",
       "1  2020  11      11    None     1     4     9     5  1110011  110015970  ...   \n",
       "2  2020  11      11    None     1     4     9     5  1110011  110015970  ...   \n",
       "3  2020  11      11    None     1     4     9     5  1110011  110015970  ...   \n",
       "4  2020  11      11    None     2     1     9     5  1110011  110015970  ...   \n",
       "\n",
       "  f002a1 f002a2 f002a3 f002a4 f002a5 f0061 f006 a006a a006b a007a  \n",
       "0      1      1      1      2      1     1    1  None  None  None  \n",
       "1      1      1      1      2      1     1    1  None  None  None  \n",
       "2      1      1      1      2      1     1    1  None  None  None  \n",
       "3      1      1      1      2      1     1    1  None  None  None  \n",
       "4      1      1      1      2      1     1    1  None  None  None  \n",
       "\n",
       "[5 rows x 148 columns]"
      ]
     },
     "execution_count": 5,
     "metadata": {},
     "output_type": "execute_result"
    }
   ],
   "source": [
    "df_01.head()"
   ]
  },
  {
   "cell_type": "code",
   "execution_count": 6,
   "metadata": {},
   "outputs": [
    {
     "data": {
      "text/plain": [
       "array([None, '5', '2', '4', '3', '1', '0', '6'], dtype=object)"
      ]
     },
     "execution_count": 6,
     "metadata": {},
     "output_type": "execute_result"
    }
   ],
   "source": [
    "df_01[\"f0022\"].unique()"
   ]
  },
  {
   "cell_type": "code",
   "execution_count": 7,
   "metadata": {},
   "outputs": [],
   "source": [
    "sql = \"\"\"\n",
    "SELECT uf, f0022, COUNT(f0022) AS \"faixa_do_aluguel\"\n",
    "FROM dbo.pnad2020\n",
    "GROUP BY\n",
    "uf, f0022\n",
    "ORDER BY\n",
    "faixa_do_aluguel DESC\n",
    "\"\"\""
   ]
  },
  {
   "cell_type": "code",
   "execution_count": 8,
   "metadata": {},
   "outputs": [
    {
     "name": "stderr",
     "output_type": "stream",
     "text": [
      "C:\\Users\\Gabriel\\AppData\\Local\\Temp\\ipykernel_24480\\2735102659.py:1: UserWarning: pandas only supports SQLAlchemy connectable (engine/connection) or database string URI or sqlite3 DBAPI2 connection. Other DBAPI2 objects are not tested. Please consider using SQLAlchemy.\n",
      "  df_02 = sqlio.read_sql_query(sql, conn)\n"
     ]
    }
   ],
   "source": [
    "df_02 = sqlio.read_sql_query(sql, conn)"
   ]
  },
  {
   "cell_type": "code",
   "execution_count": 9,
   "metadata": {},
   "outputs": [],
   "source": [
    "dict_uf = {\"11\":\"Rondônia\",\n",
    "           \"12\":\"Acre\",\n",
    "           \"13\":\"Amazonas\",\n",
    "           \"14\":\"Roraima\",\n",
    "           \"15\":\"Pará\",\n",
    "           \"16\":\"Amapá\",\n",
    "           \"17\":\"Tocantins\",\n",
    "           \"21\":\"Maranhão\",\n",
    "           \"22\":\"Piauí\",\n",
    "           \"23\":\"Ceará\",\n",
    "           \"24\":\"Rio Grande do Norte\",\n",
    "           \"25\":\"Paraíba\",\n",
    "           \"26\":\"Pernambuco\",\n",
    "           \"27\":\"Alagoas\",\n",
    "           \"28\":\"Sergipe\",\n",
    "           \"29\":\"Bahia\",\n",
    "           \"31\":\"Minas Gerais\",\n",
    "           \"32\":\"Espírito Santo\",\n",
    "           \"33\":\"Rio de Janeiro\",\n",
    "           \"35\":\"São Paulo\",\n",
    "           \"41\":\"Paraná\",\n",
    "           \"42\":\"Santa Catarina\",\n",
    "           \"43\":\"Rio Grande do Sul\",\n",
    "           \"50\":\"Mato Grosso do Sul\",\n",
    "           \"51\":\"Mato Grosso\",\n",
    "           \"52\":\"Goiás\",\n",
    "           \"53\":\"Distrito Federal\"}\n",
    "\n",
    "dict_salario = {\"0\":\"1-100\",\n",
    "                \"1\":\"101-300\",\n",
    "                \"2\":\"301-600\",\n",
    "                \"3\":\"601-800\",\n",
    "                \"4\":\"801-1.600\",\n",
    "                \"5\":\"1.601-3.000\",\n",
    "                \"6\":\"3.001-10.000\",\n",
    "                \"7\":\"10.001-50.000\",\n",
    "                \"8\":\"50.001-100.000\",\n",
    "                \"9\":\"Mais de 100.000\",\n",
    "                \"88\":\"Aluguel a vencer\",\n",
    "                None:\"Não aplicável\"}"
   ]
  },
  {
   "cell_type": "code",
   "execution_count": 10,
   "metadata": {},
   "outputs": [],
   "source": [
    "df_02_replaced = df_02.replace({\"uf\":dict_uf, \"f0022\":dict_salario})"
   ]
  },
  {
   "cell_type": "code",
   "execution_count": 11,
   "metadata": {},
   "outputs": [],
   "source": [
    "df_02_replaced = df_02_replaced.rename(columns={\"uf\":\"Estado\",\"f0022\":\"Faixa do Aluguel\",\"faixa_do_aluguel\":\"Quantidade\"})"
   ]
  },
  {
   "cell_type": "code",
   "execution_count": 12,
   "metadata": {},
   "outputs": [
    {
     "data": {
      "text/html": [
       "<div>\n",
       "<style scoped>\n",
       "    .dataframe tbody tr th:only-of-type {\n",
       "        vertical-align: middle;\n",
       "    }\n",
       "\n",
       "    .dataframe tbody tr th {\n",
       "        vertical-align: top;\n",
       "    }\n",
       "\n",
       "    .dataframe thead th {\n",
       "        text-align: right;\n",
       "    }\n",
       "</style>\n",
       "<table border=\"1\" class=\"dataframe\">\n",
       "  <thead>\n",
       "    <tr style=\"text-align: right;\">\n",
       "      <th></th>\n",
       "      <th>Estado</th>\n",
       "      <th>Faixa do Aluguel</th>\n",
       "      <th>Quantidade</th>\n",
       "    </tr>\n",
       "  </thead>\n",
       "  <tbody>\n",
       "    <tr>\n",
       "      <th>0</th>\n",
       "      <td>Minas Gerais</td>\n",
       "      <td>301-600</td>\n",
       "      <td>7113</td>\n",
       "    </tr>\n",
       "    <tr>\n",
       "      <th>1</th>\n",
       "      <td>São Paulo</td>\n",
       "      <td>301-600</td>\n",
       "      <td>6535</td>\n",
       "    </tr>\n",
       "    <tr>\n",
       "      <th>2</th>\n",
       "      <td>São Paulo</td>\n",
       "      <td>801-1.600</td>\n",
       "      <td>5650</td>\n",
       "    </tr>\n",
       "    <tr>\n",
       "      <th>3</th>\n",
       "      <td>Rio de Janeiro</td>\n",
       "      <td>301-600</td>\n",
       "      <td>4779</td>\n",
       "    </tr>\n",
       "    <tr>\n",
       "      <th>4</th>\n",
       "      <td>Goiás</td>\n",
       "      <td>301-600</td>\n",
       "      <td>4272</td>\n",
       "    </tr>\n",
       "  </tbody>\n",
       "</table>\n",
       "</div>"
      ],
      "text/plain": [
       "           Estado Faixa do Aluguel  Quantidade\n",
       "0    Minas Gerais          301-600        7113\n",
       "1       São Paulo          301-600        6535\n",
       "2       São Paulo        801-1.600        5650\n",
       "3  Rio de Janeiro          301-600        4779\n",
       "4           Goiás          301-600        4272"
      ]
     },
     "execution_count": 12,
     "metadata": {},
     "output_type": "execute_result"
    }
   ],
   "source": [
    "df_02_replaced.head()"
   ]
  },
  {
   "cell_type": "code",
   "execution_count": 13,
   "metadata": {},
   "outputs": [
    {
     "data": {
      "text/plain": [
       "Faixa do Aluguel\n",
       "301-600          66775\n",
       "801-1.600        31639\n",
       "601-800          26613\n",
       "101-300          26364\n",
       "1.601-3.000       7323\n",
       "3.001-10.000      1375\n",
       "1-100             1059\n",
       "Não aplicável        0\n",
       "Name: Quantidade, dtype: int64"
      ]
     },
     "execution_count": 13,
     "metadata": {},
     "output_type": "execute_result"
    }
   ],
   "source": [
    "df_02_replaced.groupby(by=\"Faixa do Aluguel\")[\"Quantidade\"].sum().sort_values(ascending=False)"
   ]
  },
  {
   "cell_type": "code",
   "execution_count": 14,
   "metadata": {},
   "outputs": [
    {
     "data": {
      "text/html": [
       "<div>\n",
       "<style scoped>\n",
       "    .dataframe tbody tr th:only-of-type {\n",
       "        vertical-align: middle;\n",
       "    }\n",
       "\n",
       "    .dataframe tbody tr th {\n",
       "        vertical-align: top;\n",
       "    }\n",
       "\n",
       "    .dataframe thead th {\n",
       "        text-align: right;\n",
       "    }\n",
       "</style>\n",
       "<table border=\"1\" class=\"dataframe\">\n",
       "  <thead>\n",
       "    <tr style=\"text-align: right;\">\n",
       "      <th></th>\n",
       "      <th>Estado</th>\n",
       "      <th>Faixa do Aluguel</th>\n",
       "      <th>Quantidade</th>\n",
       "    </tr>\n",
       "  </thead>\n",
       "  <tbody>\n",
       "    <tr>\n",
       "      <th>0</th>\n",
       "      <td>Minas Gerais</td>\n",
       "      <td>301-600</td>\n",
       "      <td>7113.0</td>\n",
       "    </tr>\n",
       "    <tr>\n",
       "      <th>1</th>\n",
       "      <td>São Paulo</td>\n",
       "      <td>301-600</td>\n",
       "      <td>6535.0</td>\n",
       "    </tr>\n",
       "    <tr>\n",
       "      <th>3</th>\n",
       "      <td>Rio de Janeiro</td>\n",
       "      <td>301-600</td>\n",
       "      <td>4779.0</td>\n",
       "    </tr>\n",
       "    <tr>\n",
       "      <th>4</th>\n",
       "      <td>Goiás</td>\n",
       "      <td>301-600</td>\n",
       "      <td>4272.0</td>\n",
       "    </tr>\n",
       "    <tr>\n",
       "      <th>7</th>\n",
       "      <td>Paraná</td>\n",
       "      <td>301-600</td>\n",
       "      <td>3893.0</td>\n",
       "    </tr>\n",
       "  </tbody>\n",
       "</table>\n",
       "</div>"
      ],
      "text/plain": [
       "           Estado Faixa do Aluguel  Quantidade\n",
       "0    Minas Gerais          301-600      7113.0\n",
       "1       São Paulo          301-600      6535.0\n",
       "3  Rio de Janeiro          301-600      4779.0\n",
       "4           Goiás          301-600      4272.0\n",
       "7          Paraná          301-600      3893.0"
      ]
     },
     "execution_count": 14,
     "metadata": {},
     "output_type": "execute_result"
    }
   ],
   "source": [
    "df_02_replaced.where(df_02_replaced[\"Faixa do Aluguel\"] == \"301-600\").nlargest(n=5,columns=[\"Quantidade\"])"
   ]
  },
  {
   "cell_type": "code",
   "execution_count": 15,
   "metadata": {},
   "outputs": [
    {
     "data": {
      "text/html": [
       "<div>\n",
       "<style scoped>\n",
       "    .dataframe tbody tr th:only-of-type {\n",
       "        vertical-align: middle;\n",
       "    }\n",
       "\n",
       "    .dataframe tbody tr th {\n",
       "        vertical-align: top;\n",
       "    }\n",
       "\n",
       "    .dataframe thead th {\n",
       "        text-align: right;\n",
       "    }\n",
       "</style>\n",
       "<table border=\"1\" class=\"dataframe\">\n",
       "  <thead>\n",
       "    <tr style=\"text-align: right;\">\n",
       "      <th></th>\n",
       "      <th>Estado</th>\n",
       "      <th>Faixa do Aluguel</th>\n",
       "      <th>Quantidade</th>\n",
       "    </tr>\n",
       "  </thead>\n",
       "  <tbody>\n",
       "    <tr>\n",
       "      <th>2</th>\n",
       "      <td>São Paulo</td>\n",
       "      <td>801-1.600</td>\n",
       "      <td>5650.0</td>\n",
       "    </tr>\n",
       "    <tr>\n",
       "      <th>5</th>\n",
       "      <td>Rio de Janeiro</td>\n",
       "      <td>801-1.600</td>\n",
       "      <td>4231.0</td>\n",
       "    </tr>\n",
       "    <tr>\n",
       "      <th>10</th>\n",
       "      <td>Santa Catarina</td>\n",
       "      <td>801-1.600</td>\n",
       "      <td>3388.0</td>\n",
       "    </tr>\n",
       "    <tr>\n",
       "      <th>12</th>\n",
       "      <td>Minas Gerais</td>\n",
       "      <td>801-1.600</td>\n",
       "      <td>2952.0</td>\n",
       "    </tr>\n",
       "    <tr>\n",
       "      <th>22</th>\n",
       "      <td>Paraná</td>\n",
       "      <td>801-1.600</td>\n",
       "      <td>2079.0</td>\n",
       "    </tr>\n",
       "  </tbody>\n",
       "</table>\n",
       "</div>"
      ],
      "text/plain": [
       "            Estado Faixa do Aluguel  Quantidade\n",
       "2        São Paulo        801-1.600      5650.0\n",
       "5   Rio de Janeiro        801-1.600      4231.0\n",
       "10  Santa Catarina        801-1.600      3388.0\n",
       "12    Minas Gerais        801-1.600      2952.0\n",
       "22          Paraná        801-1.600      2079.0"
      ]
     },
     "execution_count": 15,
     "metadata": {},
     "output_type": "execute_result"
    }
   ],
   "source": [
    "df_02_replaced.where(df_02_replaced[\"Faixa do Aluguel\"] == \"801-1.600\").nlargest(n=5,columns=[\"Quantidade\"])"
   ]
  },
  {
   "cell_type": "code",
   "execution_count": 16,
   "metadata": {},
   "outputs": [
    {
     "data": {
      "text/html": [
       "<div>\n",
       "<style scoped>\n",
       "    .dataframe tbody tr th:only-of-type {\n",
       "        vertical-align: middle;\n",
       "    }\n",
       "\n",
       "    .dataframe tbody tr th {\n",
       "        vertical-align: top;\n",
       "    }\n",
       "\n",
       "    .dataframe thead th {\n",
       "        text-align: right;\n",
       "    }\n",
       "</style>\n",
       "<table border=\"1\" class=\"dataframe\">\n",
       "  <thead>\n",
       "    <tr style=\"text-align: right;\">\n",
       "      <th></th>\n",
       "      <th>Estado</th>\n",
       "      <th>Faixa do Aluguel</th>\n",
       "      <th>Quantidade</th>\n",
       "    </tr>\n",
       "  </thead>\n",
       "  <tbody>\n",
       "    <tr>\n",
       "      <th>6</th>\n",
       "      <td>São Paulo</td>\n",
       "      <td>601-800</td>\n",
       "      <td>4173.0</td>\n",
       "    </tr>\n",
       "    <tr>\n",
       "      <th>15</th>\n",
       "      <td>Rio de Janeiro</td>\n",
       "      <td>601-800</td>\n",
       "      <td>2807.0</td>\n",
       "    </tr>\n",
       "    <tr>\n",
       "      <th>19</th>\n",
       "      <td>Minas Gerais</td>\n",
       "      <td>601-800</td>\n",
       "      <td>2623.0</td>\n",
       "    </tr>\n",
       "    <tr>\n",
       "      <th>20</th>\n",
       "      <td>Santa Catarina</td>\n",
       "      <td>601-800</td>\n",
       "      <td>2453.0</td>\n",
       "    </tr>\n",
       "    <tr>\n",
       "      <th>28</th>\n",
       "      <td>Paraná</td>\n",
       "      <td>601-800</td>\n",
       "      <td>1831.0</td>\n",
       "    </tr>\n",
       "  </tbody>\n",
       "</table>\n",
       "</div>"
      ],
      "text/plain": [
       "            Estado Faixa do Aluguel  Quantidade\n",
       "6        São Paulo          601-800      4173.0\n",
       "15  Rio de Janeiro          601-800      2807.0\n",
       "19    Minas Gerais          601-800      2623.0\n",
       "20  Santa Catarina          601-800      2453.0\n",
       "28          Paraná          601-800      1831.0"
      ]
     },
     "execution_count": 16,
     "metadata": {},
     "output_type": "execute_result"
    }
   ],
   "source": [
    "df_02_replaced.where(df_02_replaced[\"Faixa do Aluguel\"] == \"601-800\").nlargest(n=5,columns=[\"Quantidade\"])"
   ]
  },
  {
   "cell_type": "code",
   "execution_count": 17,
   "metadata": {},
   "outputs": [
    {
     "data": {
      "text/html": [
       "<div>\n",
       "<style scoped>\n",
       "    .dataframe tbody tr th:only-of-type {\n",
       "        vertical-align: middle;\n",
       "    }\n",
       "\n",
       "    .dataframe tbody tr th {\n",
       "        vertical-align: top;\n",
       "    }\n",
       "\n",
       "    .dataframe thead th {\n",
       "        text-align: right;\n",
       "    }\n",
       "</style>\n",
       "<table border=\"1\" class=\"dataframe\">\n",
       "  <thead>\n",
       "    <tr style=\"text-align: right;\">\n",
       "      <th></th>\n",
       "      <th>Estado</th>\n",
       "      <th>Faixa do Aluguel</th>\n",
       "      <th>Quantidade</th>\n",
       "    </tr>\n",
       "  </thead>\n",
       "  <tbody>\n",
       "    <tr>\n",
       "      <th>13</th>\n",
       "      <td>Ceará</td>\n",
       "      <td>101-300</td>\n",
       "      <td>2947.0</td>\n",
       "    </tr>\n",
       "    <tr>\n",
       "      <th>18</th>\n",
       "      <td>Pernambuco</td>\n",
       "      <td>101-300</td>\n",
       "      <td>2665.0</td>\n",
       "    </tr>\n",
       "    <tr>\n",
       "      <th>26</th>\n",
       "      <td>Minas Gerais</td>\n",
       "      <td>101-300</td>\n",
       "      <td>1881.0</td>\n",
       "    </tr>\n",
       "    <tr>\n",
       "      <th>27</th>\n",
       "      <td>Alagoas</td>\n",
       "      <td>101-300</td>\n",
       "      <td>1838.0</td>\n",
       "    </tr>\n",
       "    <tr>\n",
       "      <th>31</th>\n",
       "      <td>Maranhão</td>\n",
       "      <td>101-300</td>\n",
       "      <td>1619.0</td>\n",
       "    </tr>\n",
       "  </tbody>\n",
       "</table>\n",
       "</div>"
      ],
      "text/plain": [
       "          Estado Faixa do Aluguel  Quantidade\n",
       "13         Ceará          101-300      2947.0\n",
       "18    Pernambuco          101-300      2665.0\n",
       "26  Minas Gerais          101-300      1881.0\n",
       "27       Alagoas          101-300      1838.0\n",
       "31      Maranhão          101-300      1619.0"
      ]
     },
     "execution_count": 17,
     "metadata": {},
     "output_type": "execute_result"
    }
   ],
   "source": [
    "df_02_replaced.where(df_02_replaced[\"Faixa do Aluguel\"] == \"101-300\").nlargest(n=5,columns=[\"Quantidade\"])"
   ]
  },
  {
   "cell_type": "code",
   "execution_count": 18,
   "metadata": {},
   "outputs": [],
   "source": [
    "faixa_01 = df_02_replaced.where(df_02_replaced[\"Faixa do Aluguel\"] == \"301-600\").nlargest(n=5,columns=[\"Quantidade\"])\n",
    "faixa_02 = df_02_replaced.where(df_02_replaced[\"Faixa do Aluguel\"] == \"801-1.600\").nlargest(n=5,columns=[\"Quantidade\"])\n",
    "faixa_03 = df_02_replaced.where(df_02_replaced[\"Faixa do Aluguel\"] == \"601-800\").nlargest(n=5,columns=[\"Quantidade\"])\n",
    "faixa_04 = df_02_replaced.where(df_02_replaced[\"Faixa do Aluguel\"] == \"101-300\").nlargest(n=5,columns=[\"Quantidade\"])"
   ]
  },
  {
   "cell_type": "code",
   "execution_count": 19,
   "metadata": {},
   "outputs": [
    {
     "data": {
      "text/html": [
       "<div>\n",
       "<style scoped>\n",
       "    .dataframe tbody tr th:only-of-type {\n",
       "        vertical-align: middle;\n",
       "    }\n",
       "\n",
       "    .dataframe tbody tr th {\n",
       "        vertical-align: top;\n",
       "    }\n",
       "\n",
       "    .dataframe thead th {\n",
       "        text-align: right;\n",
       "    }\n",
       "</style>\n",
       "<table border=\"1\" class=\"dataframe\">\n",
       "  <thead>\n",
       "    <tr style=\"text-align: right;\">\n",
       "      <th></th>\n",
       "      <th>Estado</th>\n",
       "      <th>Faixa do Aluguel</th>\n",
       "      <th>Quantidade</th>\n",
       "    </tr>\n",
       "  </thead>\n",
       "  <tbody>\n",
       "    <tr>\n",
       "      <th>0</th>\n",
       "      <td>Minas Gerais</td>\n",
       "      <td>301-600</td>\n",
       "      <td>7113.0</td>\n",
       "    </tr>\n",
       "    <tr>\n",
       "      <th>1</th>\n",
       "      <td>São Paulo</td>\n",
       "      <td>301-600</td>\n",
       "      <td>6535.0</td>\n",
       "    </tr>\n",
       "    <tr>\n",
       "      <th>3</th>\n",
       "      <td>Rio de Janeiro</td>\n",
       "      <td>301-600</td>\n",
       "      <td>4779.0</td>\n",
       "    </tr>\n",
       "    <tr>\n",
       "      <th>4</th>\n",
       "      <td>Goiás</td>\n",
       "      <td>301-600</td>\n",
       "      <td>4272.0</td>\n",
       "    </tr>\n",
       "    <tr>\n",
       "      <th>7</th>\n",
       "      <td>Paraná</td>\n",
       "      <td>301-600</td>\n",
       "      <td>3893.0</td>\n",
       "    </tr>\n",
       "    <tr>\n",
       "      <th>2</th>\n",
       "      <td>São Paulo</td>\n",
       "      <td>801-1.600</td>\n",
       "      <td>5650.0</td>\n",
       "    </tr>\n",
       "    <tr>\n",
       "      <th>5</th>\n",
       "      <td>Rio de Janeiro</td>\n",
       "      <td>801-1.600</td>\n",
       "      <td>4231.0</td>\n",
       "    </tr>\n",
       "    <tr>\n",
       "      <th>10</th>\n",
       "      <td>Santa Catarina</td>\n",
       "      <td>801-1.600</td>\n",
       "      <td>3388.0</td>\n",
       "    </tr>\n",
       "    <tr>\n",
       "      <th>12</th>\n",
       "      <td>Minas Gerais</td>\n",
       "      <td>801-1.600</td>\n",
       "      <td>2952.0</td>\n",
       "    </tr>\n",
       "    <tr>\n",
       "      <th>22</th>\n",
       "      <td>Paraná</td>\n",
       "      <td>801-1.600</td>\n",
       "      <td>2079.0</td>\n",
       "    </tr>\n",
       "    <tr>\n",
       "      <th>6</th>\n",
       "      <td>São Paulo</td>\n",
       "      <td>601-800</td>\n",
       "      <td>4173.0</td>\n",
       "    </tr>\n",
       "    <tr>\n",
       "      <th>15</th>\n",
       "      <td>Rio de Janeiro</td>\n",
       "      <td>601-800</td>\n",
       "      <td>2807.0</td>\n",
       "    </tr>\n",
       "    <tr>\n",
       "      <th>19</th>\n",
       "      <td>Minas Gerais</td>\n",
       "      <td>601-800</td>\n",
       "      <td>2623.0</td>\n",
       "    </tr>\n",
       "    <tr>\n",
       "      <th>20</th>\n",
       "      <td>Santa Catarina</td>\n",
       "      <td>601-800</td>\n",
       "      <td>2453.0</td>\n",
       "    </tr>\n",
       "    <tr>\n",
       "      <th>28</th>\n",
       "      <td>Paraná</td>\n",
       "      <td>601-800</td>\n",
       "      <td>1831.0</td>\n",
       "    </tr>\n",
       "    <tr>\n",
       "      <th>13</th>\n",
       "      <td>Ceará</td>\n",
       "      <td>101-300</td>\n",
       "      <td>2947.0</td>\n",
       "    </tr>\n",
       "    <tr>\n",
       "      <th>18</th>\n",
       "      <td>Pernambuco</td>\n",
       "      <td>101-300</td>\n",
       "      <td>2665.0</td>\n",
       "    </tr>\n",
       "    <tr>\n",
       "      <th>26</th>\n",
       "      <td>Minas Gerais</td>\n",
       "      <td>101-300</td>\n",
       "      <td>1881.0</td>\n",
       "    </tr>\n",
       "    <tr>\n",
       "      <th>27</th>\n",
       "      <td>Alagoas</td>\n",
       "      <td>101-300</td>\n",
       "      <td>1838.0</td>\n",
       "    </tr>\n",
       "    <tr>\n",
       "      <th>31</th>\n",
       "      <td>Maranhão</td>\n",
       "      <td>101-300</td>\n",
       "      <td>1619.0</td>\n",
       "    </tr>\n",
       "  </tbody>\n",
       "</table>\n",
       "</div>"
      ],
      "text/plain": [
       "            Estado Faixa do Aluguel  Quantidade\n",
       "0     Minas Gerais          301-600      7113.0\n",
       "1        São Paulo          301-600      6535.0\n",
       "3   Rio de Janeiro          301-600      4779.0\n",
       "4            Goiás          301-600      4272.0\n",
       "7           Paraná          301-600      3893.0\n",
       "2        São Paulo        801-1.600      5650.0\n",
       "5   Rio de Janeiro        801-1.600      4231.0\n",
       "10  Santa Catarina        801-1.600      3388.0\n",
       "12    Minas Gerais        801-1.600      2952.0\n",
       "22          Paraná        801-1.600      2079.0\n",
       "6        São Paulo          601-800      4173.0\n",
       "15  Rio de Janeiro          601-800      2807.0\n",
       "19    Minas Gerais          601-800      2623.0\n",
       "20  Santa Catarina          601-800      2453.0\n",
       "28          Paraná          601-800      1831.0\n",
       "13           Ceará          101-300      2947.0\n",
       "18      Pernambuco          101-300      2665.0\n",
       "26    Minas Gerais          101-300      1881.0\n",
       "27         Alagoas          101-300      1838.0\n",
       "31        Maranhão          101-300      1619.0"
      ]
     },
     "execution_count": 19,
     "metadata": {},
     "output_type": "execute_result"
    }
   ],
   "source": [
    "faixas = pd.concat([faixa_01,faixa_02,faixa_03,faixa_04])\n",
    "faixas"
   ]
  },
  {
   "cell_type": "code",
   "execution_count": 20,
   "metadata": {},
   "outputs": [],
   "source": [
    "color_list = faixas[\"Estado\"].unique()"
   ]
  },
  {
   "cell_type": "code",
   "execution_count": 21,
   "metadata": {},
   "outputs": [],
   "source": [
    "import matplotlib.pyplot as plt\n",
    "import warnings \n",
    "  \n",
    "# Settings the warnings to be ignored \n",
    "warnings.filterwarnings('ignore') "
   ]
  },
  {
   "cell_type": "code",
   "execution_count": null,
   "metadata": {},
   "outputs": [],
   "source": [
    "color_dict={color_list[0]:'red', color_list[1]:'blue', color_list[2]:'green', color_list[3]:'aqua', color_list[4]:'orange',\n",
    "       color_list[5]:'purple', color_list[6]:'chocolate', color_list[7]:'yellow', color_list[8]:'grey', color_list[9]:'navy'}\n",
    "\n",
    "fig, (ax1, ax2, ax3, ax4)= plt.subplots(1, 4, sharey=True)\n",
    "ax1.bar(faixa_01[\"Estado\"], faixa_01[\"Quantidade\"], color=[color_dict[key] for key in faixa_01[\"Estado\"]],  edgecolor='black', zorder=3)\n",
    "ax2.bar(faixa_02[\"Estado\"], faixa_02[\"Quantidade\"], color=[color_dict[key] for key in faixa_02[\"Estado\"]],  edgecolor='black', zorder=3)\n",
    "ax3.bar(faixa_03[\"Estado\"], faixa_03[\"Quantidade\"], color=[color_dict[key] for key in faixa_03[\"Estado\"]],  edgecolor='black', zorder=3)\n",
    "ax4.bar(faixa_04[\"Estado\"], faixa_04[\"Quantidade\"], color=[color_dict[key] for key in faixa_04[\"Estado\"]],  edgecolor='black', zorder=3)\n",
    "fig.suptitle(\"PNAD COVID19\\nNúmero de entrevistados em diferentes faixas de aluguel por estado\", size=16)\n",
    "ax1.set_title(\"Aluguel de 301 a 600 reais\")\n",
    "ax2.set_title(\"Aluguel de 801 a 1.600 reais\")\n",
    "ax3.set_title(\"Aluguel de 601 a 800 reais\")\n",
    "ax4.set_title(\"Aluguel de 101 a 300 reais\")\n",
    "ax1.set_xticklabels(faixa_01[\"Estado\"], rotation=45, ha='right')\n",
    "ax2.set_xticklabels(faixa_02[\"Estado\"], rotation=45, ha='right')\n",
    "ax3.set_xticklabels(faixa_03[\"Estado\"], rotation=45, ha='right')\n",
    "ax4.set_xticklabels(faixa_04[\"Estado\"], rotation=45, ha='right')\n",
    "ax1.grid(axis = 'y', color = 'gray', linestyle = '--', linewidth = 0.8, alpha=0.8, zorder=0)\n",
    "ax2.grid(axis = 'y', color = 'gray', linestyle = '--', linewidth = 0.8, alpha=0.8, zorder=0)\n",
    "ax3.grid(axis = 'y', color = 'gray', linestyle = '--', linewidth = 0.8, alpha=0.8, zorder=0)\n",
    "ax4.grid(axis = 'y', color = 'gray', linestyle = '--', linewidth = 0.8, alpha=0.8, zorder=0)\n",
    "fig.set_figheight(6)\n",
    "fig.set_figwidth(15)\n",
    "fig.text(0.5, -0.01, 'Estado', ha='center', fontdict={'size':16})\n",
    "fig.text(-0.01, 0.5, 'Número de entrevistados', va='center', rotation='vertical', fontdict={'size':16})\n",
    "plt.legend()\n",
    "plt.tight_layout()\n",
    "plt.show()\n"
   ]
  },
  {
   "cell_type": "code",
   "execution_count": 35,
   "metadata": {},
   "outputs": [],
   "source": [
    "import json\n",
    "import plotly\n",
    "import plotly.express as px\n",
    "from plotly.subplots import make_subplots\n",
    "import plotly.graph_objects as go"
   ]
  },
  {
   "cell_type": "code",
   "execution_count": null,
   "metadata": {},
   "outputs": [],
   "source": [
    "fig_1 = make_subplots(rows=2, cols=2, specs=[[{'type':'domain'}, {'type':'domain'}],[{'type':'domain'}, {'type':'domain'}]])\n",
    "fig_1.add_trace(go.Pie(labels=faixa_01[\"Estado\"], values=faixa_01[\"Quantidade\"], name=\"301-600\"),\n",
    "            1, 1)\n",
    "fig_1.add_trace(go.Pie(labels=faixa_02[\"Estado\"], values=faixa_02[\"Quantidade\"], name=\"801-1.600\"),\n",
    "            1, 2)\n",
    "fig_1.add_trace(go.Pie(labels=faixa_03[\"Estado\"], values=faixa_03[\"Quantidade\"], name=\"601-800\"),\n",
    "            2, 1)\n",
    "fig_1.add_trace(go.Pie(labels=faixa_04[\"Estado\"], values=faixa_04[\"Quantidade\"], name=\"101-300\"),\n",
    "            2, 2)\n",
    "\n",
    "# Tamanho do buraco da rosca\n",
    "fig_1.update_traces(hole=0.7, hoverinfo=\"label+value+percent\", textinfo='value')\n",
    "\n",
    "fig_1.update_layout(title_text=\"Número de entrevistados em diferentes faixas de aluguel por estado\", title_x=0.5, title=dict(font=dict(size=16)),legend=dict(font=dict(size=14)),\n",
    "                    annotations=[dict(text='301-600<br>Reais', x=0.160, y=0.82, font_size=18, showarrow=False),\n",
    "                                 dict(text='801-1.600<br>Reais', x=0.9, y=0.82, font_size=18, showarrow=False),\n",
    "                                 dict(text='601-800<br>Reais', x=0.160, y=0.12, font_size=18, showarrow=False),\n",
    "                                 dict(text='101-300<br>Reais', x=0.9, y=0.12, font_size=18, showarrow=False)\n",
    "                                ]\n",
    "                    )\n",
    "#plotly.offline.plot(fig_1, filename = 'br_faixa_aluguel.html', auto_open=False)\n",
    "fig_1.show()"
   ]
  },
  {
   "cell_type": "code",
   "execution_count": 51,
   "metadata": {},
   "outputs": [],
   "source": [
    "sql = \"\"\"\n",
    "SELECT v1013, uf, b0011, b0012, b0015, COUNT(b0011) AS \"febre_tosse_dor_cabeca\"\n",
    "FROM dbo.pnad2020\n",
    "WHERE b0011 = '1' AND b0012 = '1' AND b0015 = '1'\n",
    "GROUP BY\n",
    "v1013, uf, b0011, b0012, b0015\n",
    "ORDER BY\n",
    "v1013 DESC, febre_tosse_dor_cabeca DESC\n",
    "\"\"\""
   ]
  },
  {
   "cell_type": "code",
   "execution_count": 52,
   "metadata": {},
   "outputs": [],
   "source": [
    "df_03 = sqlio.read_sql_query(sql, conn)"
   ]
  },
  {
   "cell_type": "code",
   "execution_count": 53,
   "metadata": {},
   "outputs": [
    {
     "data": {
      "text/html": [
       "<div>\n",
       "<style scoped>\n",
       "    .dataframe tbody tr th:only-of-type {\n",
       "        vertical-align: middle;\n",
       "    }\n",
       "\n",
       "    .dataframe tbody tr th {\n",
       "        vertical-align: top;\n",
       "    }\n",
       "\n",
       "    .dataframe thead th {\n",
       "        text-align: right;\n",
       "    }\n",
       "</style>\n",
       "<table border=\"1\" class=\"dataframe\">\n",
       "  <thead>\n",
       "    <tr style=\"text-align: right;\">\n",
       "      <th></th>\n",
       "      <th>v1013</th>\n",
       "      <th>uf</th>\n",
       "      <th>b0011</th>\n",
       "      <th>b0012</th>\n",
       "      <th>b0015</th>\n",
       "      <th>febre_tosse_dor_cabeca</th>\n",
       "    </tr>\n",
       "  </thead>\n",
       "  <tbody>\n",
       "    <tr>\n",
       "      <th>0</th>\n",
       "      <td>9</td>\n",
       "      <td>51</td>\n",
       "      <td>1</td>\n",
       "      <td>1</td>\n",
       "      <td>1</td>\n",
       "      <td>87</td>\n",
       "    </tr>\n",
       "    <tr>\n",
       "      <th>1</th>\n",
       "      <td>9</td>\n",
       "      <td>52</td>\n",
       "      <td>1</td>\n",
       "      <td>1</td>\n",
       "      <td>1</td>\n",
       "      <td>85</td>\n",
       "    </tr>\n",
       "    <tr>\n",
       "      <th>2</th>\n",
       "      <td>9</td>\n",
       "      <td>43</td>\n",
       "      <td>1</td>\n",
       "      <td>1</td>\n",
       "      <td>1</td>\n",
       "      <td>75</td>\n",
       "    </tr>\n",
       "    <tr>\n",
       "      <th>3</th>\n",
       "      <td>9</td>\n",
       "      <td>31</td>\n",
       "      <td>1</td>\n",
       "      <td>1</td>\n",
       "      <td>1</td>\n",
       "      <td>69</td>\n",
       "    </tr>\n",
       "    <tr>\n",
       "      <th>4</th>\n",
       "      <td>9</td>\n",
       "      <td>35</td>\n",
       "      <td>1</td>\n",
       "      <td>1</td>\n",
       "      <td>1</td>\n",
       "      <td>63</td>\n",
       "    </tr>\n",
       "  </tbody>\n",
       "</table>\n",
       "</div>"
      ],
      "text/plain": [
       "  v1013  uf b0011 b0012 b0015  febre_tosse_dor_cabeca\n",
       "0     9  51     1     1     1                      87\n",
       "1     9  52     1     1     1                      85\n",
       "2     9  43     1     1     1                      75\n",
       "3     9  31     1     1     1                      69\n",
       "4     9  35     1     1     1                      63"
      ]
     },
     "execution_count": 53,
     "metadata": {},
     "output_type": "execute_result"
    }
   ],
   "source": [
    "df_03.head()"
   ]
  },
  {
   "cell_type": "code",
   "execution_count": 54,
   "metadata": {},
   "outputs": [],
   "source": [
    "dict_uf_short = {\"11\":\"RO\",\n",
    "                 \"12\":\"AC\",\n",
    "                 \"13\":\"AM\",\n",
    "                 \"14\":\"RR\",\n",
    "                 \"15\":\"PA\",\n",
    "                 \"16\":\"AP\",\n",
    "                 \"17\":\"TO\",\n",
    "                 \"21\":\"MA\",\n",
    "                 \"22\":\"PI\",\n",
    "                 \"23\":\"CE\",\n",
    "                 \"24\":\"RN\",\n",
    "                 \"25\":\"PB\",\n",
    "                 \"26\":\"PE\",\n",
    "                 \"27\":\"AL\",\n",
    "                 \"28\":\"SE\",\n",
    "                 \"29\":\"BA\",\n",
    "                 \"31\":\"MG\",\n",
    "                 \"32\":\"ES\",\n",
    "                 \"33\":\"RJ\",\n",
    "                 \"35\":\"SP\",\n",
    "                 \"41\":\"PR\",\n",
    "                 \"42\":\"SC\",\n",
    "                 \"43\":\"RS\",\n",
    "                 \"50\":\"MS\",\n",
    "                 \"51\":\"MT\",\n",
    "                 \"52\":\"GO\",\n",
    "                 \"53\":\"DF\"\n",
    "                 }\n",
    "\n",
    "dict_mes = {\"9\":\"Setembro\",\n",
    "            \"10\":\"Outubro\",\n",
    "            \"11\":\"Novembro\"\n",
    "           }"
   ]
  },
  {
   "cell_type": "code",
   "execution_count": 55,
   "metadata": {},
   "outputs": [],
   "source": [
    "df_03_replaced = df_03.replace({\"uf\":dict_uf_short,\"v1013\":dict_mes})\n",
    "df_03_replaced = df_03_replaced.drop(columns=[\"b0011\", \"b0012\", \"b0015\"])\n",
    "df_03_replaced = df_03_replaced.rename(columns={\"v1013\":\"mes\"})"
   ]
  },
  {
   "cell_type": "code",
   "execution_count": 56,
   "metadata": {},
   "outputs": [
    {
     "data": {
      "text/html": [
       "<div>\n",
       "<style scoped>\n",
       "    .dataframe tbody tr th:only-of-type {\n",
       "        vertical-align: middle;\n",
       "    }\n",
       "\n",
       "    .dataframe tbody tr th {\n",
       "        vertical-align: top;\n",
       "    }\n",
       "\n",
       "    .dataframe thead th {\n",
       "        text-align: right;\n",
       "    }\n",
       "</style>\n",
       "<table border=\"1\" class=\"dataframe\">\n",
       "  <thead>\n",
       "    <tr style=\"text-align: right;\">\n",
       "      <th></th>\n",
       "      <th>mes</th>\n",
       "      <th>uf</th>\n",
       "      <th>febre_tosse_dor_cabeca</th>\n",
       "    </tr>\n",
       "  </thead>\n",
       "  <tbody>\n",
       "    <tr>\n",
       "      <th>0</th>\n",
       "      <td>Setembro</td>\n",
       "      <td>MT</td>\n",
       "      <td>87</td>\n",
       "    </tr>\n",
       "    <tr>\n",
       "      <th>1</th>\n",
       "      <td>Setembro</td>\n",
       "      <td>GO</td>\n",
       "      <td>85</td>\n",
       "    </tr>\n",
       "    <tr>\n",
       "      <th>2</th>\n",
       "      <td>Setembro</td>\n",
       "      <td>RS</td>\n",
       "      <td>75</td>\n",
       "    </tr>\n",
       "    <tr>\n",
       "      <th>3</th>\n",
       "      <td>Setembro</td>\n",
       "      <td>MG</td>\n",
       "      <td>69</td>\n",
       "    </tr>\n",
       "    <tr>\n",
       "      <th>4</th>\n",
       "      <td>Setembro</td>\n",
       "      <td>SP</td>\n",
       "      <td>63</td>\n",
       "    </tr>\n",
       "  </tbody>\n",
       "</table>\n",
       "</div>"
      ],
      "text/plain": [
       "        mes  uf  febre_tosse_dor_cabeca\n",
       "0  Setembro  MT                      87\n",
       "1  Setembro  GO                      85\n",
       "2  Setembro  RS                      75\n",
       "3  Setembro  MG                      69\n",
       "4  Setembro  SP                      63"
      ]
     },
     "execution_count": 56,
     "metadata": {},
     "output_type": "execute_result"
    }
   ],
   "source": [
    "df_03_replaced.head()"
   ]
  },
  {
   "cell_type": "code",
   "execution_count": 57,
   "metadata": {},
   "outputs": [],
   "source": [
    "df_03_replaced.to_csv(\"C:\\\\Users\\\\Gabriel\\\\Downloads\\\\Outros\\\\Pós_Tech\\\\Curso\\\\Fase III\\\\Tech-Challenge\\\\Assets\\\\DataFrame\\\\casos_de_febre.csv\")"
   ]
  },
  {
   "cell_type": "code",
   "execution_count": 58,
   "metadata": {},
   "outputs": [],
   "source": [
    "# Recuperando dados geológicos do Brasil\n",
    "f = open('Assets/JSON/brazil_geo.json',)\n",
    "geo_json_br = json.load(f)"
   ]
  },
  {
   "cell_type": "code",
   "execution_count": 59,
   "metadata": {},
   "outputs": [],
   "source": [
    "casos_de_febre = pd.read_csv('Assets/DataFrame/casos_de_febre.csv')"
   ]
  },
  {
   "cell_type": "code",
   "execution_count": null,
   "metadata": {},
   "outputs": [],
   "source": [
    "fig_2 = px.choropleth_mapbox(casos_de_febre,\n",
    "                                geojson = geo_json_br,\n",
    "                                locations='uf',\n",
    "                                featureidkey = 'id',\n",
    "                                color = 'febre_tosse_dor_cabeca',\n",
    "                                animation_frame = 'mes',\n",
    "                                hover_name = 'uf',\n",
    "                                hover_data = ['febre_tosse_dor_cabeca'],\n",
    "                                title = 'Casos de febre, tosse e dor de cabeça no Brasil entre Setembro a Novembro de 2020',\n",
    "                                color_continuous_scale='Viridis',\n",
    "                                mapbox_style = 'carto-positron',\n",
    "                                center = {'lat':-14.654012, 'lon': -52.879523},\n",
    "                                zoom = 3,\n",
    "                                opacity = 0.9, )\n",
    "fig_2.update_layout(coloraxis_colorbar_title_text = 'Nº Casos', title_x=0.5, title=dict(font=dict(size=14)))\n",
    "fig_2.update_geos(fitbounds = 'locations', visible = False)\n",
    "plotly.offline.plot(fig_2, filename = 'br_mapa_casos_febre.html', auto_play=False, auto_open=False)\n",
    "fig_2.show()"
   ]
  },
  {
   "cell_type": "code",
   "execution_count": 37,
   "metadata": {},
   "outputs": [],
   "source": [
    "sql = \"\"\"\n",
    "SELECT uf, v1022, COUNT(case v1022 when '1' then 1 else null end) AS \"urbana\", COUNT(case v1022 when '2' then 1 else null end) AS \"rural\", COUNT(v1022) AS \"total\"\n",
    "FROM dbo.pnad2020\n",
    "GROUP BY\n",
    "uf, v1022\n",
    "ORDER BY\n",
    "total DESC\n",
    "\"\"\""
   ]
  },
  {
   "cell_type": "code",
   "execution_count": 38,
   "metadata": {},
   "outputs": [],
   "source": [
    "df_04 = sqlio.read_sql_query(sql, conn)"
   ]
  },
  {
   "cell_type": "code",
   "execution_count": 39,
   "metadata": {},
   "outputs": [
    {
     "data": {
      "text/html": [
       "<div>\n",
       "<style scoped>\n",
       "    .dataframe tbody tr th:only-of-type {\n",
       "        vertical-align: middle;\n",
       "    }\n",
       "\n",
       "    .dataframe tbody tr th {\n",
       "        vertical-align: top;\n",
       "    }\n",
       "\n",
       "    .dataframe thead th {\n",
       "        text-align: right;\n",
       "    }\n",
       "</style>\n",
       "<table border=\"1\" class=\"dataframe\">\n",
       "  <thead>\n",
       "    <tr style=\"text-align: right;\">\n",
       "      <th></th>\n",
       "      <th>uf</th>\n",
       "      <th>v1022</th>\n",
       "      <th>urbana</th>\n",
       "      <th>rural</th>\n",
       "      <th>total</th>\n",
       "    </tr>\n",
       "  </thead>\n",
       "  <tbody>\n",
       "    <tr>\n",
       "      <th>0</th>\n",
       "      <td>33</td>\n",
       "      <td>1</td>\n",
       "      <td>81912</td>\n",
       "      <td>0</td>\n",
       "      <td>81912</td>\n",
       "    </tr>\n",
       "    <tr>\n",
       "      <th>1</th>\n",
       "      <td>35</td>\n",
       "      <td>1</td>\n",
       "      <td>80956</td>\n",
       "      <td>0</td>\n",
       "      <td>80956</td>\n",
       "    </tr>\n",
       "    <tr>\n",
       "      <th>2</th>\n",
       "      <td>31</td>\n",
       "      <td>1</td>\n",
       "      <td>76102</td>\n",
       "      <td>0</td>\n",
       "      <td>76102</td>\n",
       "    </tr>\n",
       "    <tr>\n",
       "      <th>3</th>\n",
       "      <td>42</td>\n",
       "      <td>1</td>\n",
       "      <td>56342</td>\n",
       "      <td>0</td>\n",
       "      <td>56342</td>\n",
       "    </tr>\n",
       "    <tr>\n",
       "      <th>4</th>\n",
       "      <td>43</td>\n",
       "      <td>1</td>\n",
       "      <td>49633</td>\n",
       "      <td>0</td>\n",
       "      <td>49633</td>\n",
       "    </tr>\n",
       "  </tbody>\n",
       "</table>\n",
       "</div>"
      ],
      "text/plain": [
       "   uf v1022  urbana  rural  total\n",
       "0  33     1   81912      0  81912\n",
       "1  35     1   80956      0  80956\n",
       "2  31     1   76102      0  76102\n",
       "3  42     1   56342      0  56342\n",
       "4  43     1   49633      0  49633"
      ]
     },
     "execution_count": 39,
     "metadata": {},
     "output_type": "execute_result"
    }
   ],
   "source": [
    "df_04.head()"
   ]
  },
  {
   "cell_type": "code",
   "execution_count": 40,
   "metadata": {},
   "outputs": [
    {
     "name": "stdout",
     "output_type": "stream",
     "text": [
      "<class 'pandas.core.frame.DataFrame'>\n",
      "RangeIndex: 54 entries, 0 to 53\n",
      "Data columns (total 5 columns):\n",
      " #   Column  Non-Null Count  Dtype \n",
      "---  ------  --------------  ----- \n",
      " 0   uf      54 non-null     object\n",
      " 1   v1022   54 non-null     object\n",
      " 2   urbana  54 non-null     int64 \n",
      " 3   rural   54 non-null     int64 \n",
      " 4   total   54 non-null     int64 \n",
      "dtypes: int64(3), object(2)\n",
      "memory usage: 2.2+ KB\n"
     ]
    }
   ],
   "source": [
    "df_04.info()"
   ]
  },
  {
   "cell_type": "code",
   "execution_count": 41,
   "metadata": {},
   "outputs": [
    {
     "data": {
      "text/html": [
       "<div>\n",
       "<style scoped>\n",
       "    .dataframe tbody tr th:only-of-type {\n",
       "        vertical-align: middle;\n",
       "    }\n",
       "\n",
       "    .dataframe tbody tr th {\n",
       "        vertical-align: top;\n",
       "    }\n",
       "\n",
       "    .dataframe thead th {\n",
       "        text-align: right;\n",
       "    }\n",
       "</style>\n",
       "<table border=\"1\" class=\"dataframe\">\n",
       "  <thead>\n",
       "    <tr style=\"text-align: right;\">\n",
       "      <th></th>\n",
       "      <th>uf</th>\n",
       "      <th>v1022</th>\n",
       "      <th>urbana</th>\n",
       "      <th>rural</th>\n",
       "      <th>total</th>\n",
       "    </tr>\n",
       "  </thead>\n",
       "  <tbody>\n",
       "    <tr>\n",
       "      <th>0</th>\n",
       "      <td>33</td>\n",
       "      <td>1</td>\n",
       "      <td>81912</td>\n",
       "      <td>0</td>\n",
       "      <td>81912</td>\n",
       "    </tr>\n",
       "    <tr>\n",
       "      <th>1</th>\n",
       "      <td>35</td>\n",
       "      <td>1</td>\n",
       "      <td>80956</td>\n",
       "      <td>0</td>\n",
       "      <td>80956</td>\n",
       "    </tr>\n",
       "    <tr>\n",
       "      <th>2</th>\n",
       "      <td>31</td>\n",
       "      <td>1</td>\n",
       "      <td>76102</td>\n",
       "      <td>0</td>\n",
       "      <td>76102</td>\n",
       "    </tr>\n",
       "    <tr>\n",
       "      <th>3</th>\n",
       "      <td>42</td>\n",
       "      <td>1</td>\n",
       "      <td>56342</td>\n",
       "      <td>0</td>\n",
       "      <td>56342</td>\n",
       "    </tr>\n",
       "    <tr>\n",
       "      <th>4</th>\n",
       "      <td>43</td>\n",
       "      <td>1</td>\n",
       "      <td>49633</td>\n",
       "      <td>0</td>\n",
       "      <td>49633</td>\n",
       "    </tr>\n",
       "  </tbody>\n",
       "</table>\n",
       "</div>"
      ],
      "text/plain": [
       "   uf v1022  urbana  rural  total\n",
       "0  33     1   81912      0  81912\n",
       "1  35     1   80956      0  80956\n",
       "2  31     1   76102      0  76102\n",
       "3  42     1   56342      0  56342\n",
       "4  43     1   49633      0  49633"
      ]
     },
     "execution_count": 41,
     "metadata": {},
     "output_type": "execute_result"
    }
   ],
   "source": [
    "df_04.head()"
   ]
  },
  {
   "cell_type": "code",
   "execution_count": 42,
   "metadata": {},
   "outputs": [],
   "source": [
    "df_04_copy = df_04.copy()"
   ]
  },
  {
   "cell_type": "code",
   "execution_count": 43,
   "metadata": {},
   "outputs": [],
   "source": [
    "dict_v1022 = {\n",
    "    \"1\":\"urbana\",\n",
    "    \"2\":\"rural\"\n",
    "}"
   ]
  },
  {
   "cell_type": "code",
   "execution_count": 44,
   "metadata": {},
   "outputs": [
    {
     "data": {
      "text/html": [
       "<div>\n",
       "<style scoped>\n",
       "    .dataframe tbody tr th:only-of-type {\n",
       "        vertical-align: middle;\n",
       "    }\n",
       "\n",
       "    .dataframe tbody tr th {\n",
       "        vertical-align: top;\n",
       "    }\n",
       "\n",
       "    .dataframe thead th {\n",
       "        text-align: right;\n",
       "    }\n",
       "</style>\n",
       "<table border=\"1\" class=\"dataframe\">\n",
       "  <thead>\n",
       "    <tr style=\"text-align: right;\">\n",
       "      <th></th>\n",
       "      <th>uf</th>\n",
       "      <th>situacao</th>\n",
       "      <th>total</th>\n",
       "    </tr>\n",
       "  </thead>\n",
       "  <tbody>\n",
       "    <tr>\n",
       "      <th>0</th>\n",
       "      <td>Rio de Janeiro</td>\n",
       "      <td>urbana</td>\n",
       "      <td>81912</td>\n",
       "    </tr>\n",
       "    <tr>\n",
       "      <th>1</th>\n",
       "      <td>São Paulo</td>\n",
       "      <td>urbana</td>\n",
       "      <td>80956</td>\n",
       "    </tr>\n",
       "    <tr>\n",
       "      <th>2</th>\n",
       "      <td>Minas Gerais</td>\n",
       "      <td>urbana</td>\n",
       "      <td>76102</td>\n",
       "    </tr>\n",
       "    <tr>\n",
       "      <th>3</th>\n",
       "      <td>Santa Catarina</td>\n",
       "      <td>urbana</td>\n",
       "      <td>56342</td>\n",
       "    </tr>\n",
       "    <tr>\n",
       "      <th>4</th>\n",
       "      <td>Rio Grande do Sul</td>\n",
       "      <td>urbana</td>\n",
       "      <td>49633</td>\n",
       "    </tr>\n",
       "  </tbody>\n",
       "</table>\n",
       "</div>"
      ],
      "text/plain": [
       "                  uf situacao  total\n",
       "0     Rio de Janeiro   urbana  81912\n",
       "1          São Paulo   urbana  80956\n",
       "2       Minas Gerais   urbana  76102\n",
       "3     Santa Catarina   urbana  56342\n",
       "4  Rio Grande do Sul   urbana  49633"
      ]
     },
     "execution_count": 44,
     "metadata": {},
     "output_type": "execute_result"
    }
   ],
   "source": [
    "df_04_copy = df_04_copy.drop(columns=[\"urbana\",\"rural\"])\n",
    "df_04_copy = df_04_copy.replace({\"v1022\":dict_v1022})\n",
    "df_04_copy = df_04_copy.rename(columns={\"v1022\":\"situacao\"})\n",
    "df_04_copy = df_04_copy.replace({\"uf\":dict_uf})\n",
    "df_04_copy.head()"
   ]
  },
  {
   "cell_type": "code",
   "execution_count": 45,
   "metadata": {},
   "outputs": [],
   "source": [
    "agg_functions = {'uf': 'first', 'situacao': 'first', 'total': 'sum'}\n",
    "df_04_total = df_04_copy.groupby(df_04_copy['uf']).aggregate(agg_functions)"
   ]
  },
  {
   "cell_type": "code",
   "execution_count": 46,
   "metadata": {},
   "outputs": [
    {
     "data": {
      "text/html": [
       "<div>\n",
       "<style scoped>\n",
       "    .dataframe tbody tr th:only-of-type {\n",
       "        vertical-align: middle;\n",
       "    }\n",
       "\n",
       "    .dataframe tbody tr th {\n",
       "        vertical-align: top;\n",
       "    }\n",
       "\n",
       "    .dataframe thead th {\n",
       "        text-align: right;\n",
       "    }\n",
       "</style>\n",
       "<table border=\"1\" class=\"dataframe\">\n",
       "  <thead>\n",
       "    <tr style=\"text-align: right;\">\n",
       "      <th></th>\n",
       "      <th>uf</th>\n",
       "      <th>total</th>\n",
       "    </tr>\n",
       "  </thead>\n",
       "  <tbody>\n",
       "    <tr>\n",
       "      <th>12</th>\n",
       "      <td>Minas Gerais</td>\n",
       "      <td>103096</td>\n",
       "    </tr>\n",
       "    <tr>\n",
       "      <th>25</th>\n",
       "      <td>São Paulo</td>\n",
       "      <td>98021</td>\n",
       "    </tr>\n",
       "    <tr>\n",
       "      <th>20</th>\n",
       "      <td>Rio de Janeiro</td>\n",
       "      <td>87405</td>\n",
       "    </tr>\n",
       "    <tr>\n",
       "      <th>23</th>\n",
       "      <td>Santa Catarina</td>\n",
       "      <td>70990</td>\n",
       "    </tr>\n",
       "    <tr>\n",
       "      <th>19</th>\n",
       "      <td>Rio Grande do Sul</td>\n",
       "      <td>66446</td>\n",
       "    </tr>\n",
       "  </tbody>\n",
       "</table>\n",
       "</div>"
      ],
      "text/plain": [
       "                   uf   total\n",
       "12       Minas Gerais  103096\n",
       "25          São Paulo   98021\n",
       "20     Rio de Janeiro   87405\n",
       "23     Santa Catarina   70990\n",
       "19  Rio Grande do Sul   66446"
      ]
     },
     "execution_count": 46,
     "metadata": {},
     "output_type": "execute_result"
    }
   ],
   "source": [
    "df_04_total = df_04_total.reset_index(drop=True)\n",
    "df_04_total = df_04_total.sort_values('total', ascending=False)\n",
    "df_04_total = df_04_total.drop(columns=[\"situacao\"])\n",
    "df_04_total.head()"
   ]
  },
  {
   "cell_type": "code",
   "execution_count": 47,
   "metadata": {},
   "outputs": [
    {
     "data": {
      "text/html": [
       "<div>\n",
       "<style scoped>\n",
       "    .dataframe tbody tr th:only-of-type {\n",
       "        vertical-align: middle;\n",
       "    }\n",
       "\n",
       "    .dataframe tbody tr th {\n",
       "        vertical-align: top;\n",
       "    }\n",
       "\n",
       "    .dataframe thead th {\n",
       "        text-align: right;\n",
       "    }\n",
       "</style>\n",
       "<table border=\"1\" class=\"dataframe\">\n",
       "  <thead>\n",
       "    <tr style=\"text-align: right;\">\n",
       "      <th></th>\n",
       "      <th>uf</th>\n",
       "      <th>situacao</th>\n",
       "      <th>total_x</th>\n",
       "      <th>total_y</th>\n",
       "    </tr>\n",
       "  </thead>\n",
       "  <tbody>\n",
       "    <tr>\n",
       "      <th>0</th>\n",
       "      <td>Rio de Janeiro</td>\n",
       "      <td>urbana</td>\n",
       "      <td>81912</td>\n",
       "      <td>87405</td>\n",
       "    </tr>\n",
       "    <tr>\n",
       "      <th>1</th>\n",
       "      <td>Rio de Janeiro</td>\n",
       "      <td>rural</td>\n",
       "      <td>5493</td>\n",
       "      <td>87405</td>\n",
       "    </tr>\n",
       "    <tr>\n",
       "      <th>2</th>\n",
       "      <td>São Paulo</td>\n",
       "      <td>urbana</td>\n",
       "      <td>80956</td>\n",
       "      <td>98021</td>\n",
       "    </tr>\n",
       "    <tr>\n",
       "      <th>3</th>\n",
       "      <td>São Paulo</td>\n",
       "      <td>rural</td>\n",
       "      <td>17065</td>\n",
       "      <td>98021</td>\n",
       "    </tr>\n",
       "    <tr>\n",
       "      <th>4</th>\n",
       "      <td>Minas Gerais</td>\n",
       "      <td>urbana</td>\n",
       "      <td>76102</td>\n",
       "      <td>103096</td>\n",
       "    </tr>\n",
       "  </tbody>\n",
       "</table>\n",
       "</div>"
      ],
      "text/plain": [
       "               uf situacao  total_x  total_y\n",
       "0  Rio de Janeiro   urbana    81912    87405\n",
       "1  Rio de Janeiro    rural     5493    87405\n",
       "2       São Paulo   urbana    80956    98021\n",
       "3       São Paulo    rural    17065    98021\n",
       "4    Minas Gerais   urbana    76102   103096"
      ]
     },
     "execution_count": 47,
     "metadata": {},
     "output_type": "execute_result"
    }
   ],
   "source": [
    "df_04_merge = pd.merge(df_04_copy, df_04_total, on=\"uf\")\n",
    "df_04_merge.head()"
   ]
  },
  {
   "cell_type": "code",
   "execution_count": 48,
   "metadata": {},
   "outputs": [
    {
     "data": {
      "text/html": [
       "<div>\n",
       "<style scoped>\n",
       "    .dataframe tbody tr th:only-of-type {\n",
       "        vertical-align: middle;\n",
       "    }\n",
       "\n",
       "    .dataframe tbody tr th {\n",
       "        vertical-align: top;\n",
       "    }\n",
       "\n",
       "    .dataframe thead th {\n",
       "        text-align: right;\n",
       "    }\n",
       "</style>\n",
       "<table border=\"1\" class=\"dataframe\">\n",
       "  <thead>\n",
       "    <tr style=\"text-align: right;\">\n",
       "      <th></th>\n",
       "      <th>uf</th>\n",
       "      <th>situacao</th>\n",
       "      <th>total_por_situacao</th>\n",
       "      <th>total</th>\n",
       "    </tr>\n",
       "  </thead>\n",
       "  <tbody>\n",
       "    <tr>\n",
       "      <th>4</th>\n",
       "      <td>Minas Gerais</td>\n",
       "      <td>urbana</td>\n",
       "      <td>76102</td>\n",
       "      <td>103096</td>\n",
       "    </tr>\n",
       "    <tr>\n",
       "      <th>5</th>\n",
       "      <td>Minas Gerais</td>\n",
       "      <td>rural</td>\n",
       "      <td>26994</td>\n",
       "      <td>103096</td>\n",
       "    </tr>\n",
       "    <tr>\n",
       "      <th>2</th>\n",
       "      <td>São Paulo</td>\n",
       "      <td>urbana</td>\n",
       "      <td>80956</td>\n",
       "      <td>98021</td>\n",
       "    </tr>\n",
       "    <tr>\n",
       "      <th>3</th>\n",
       "      <td>São Paulo</td>\n",
       "      <td>rural</td>\n",
       "      <td>17065</td>\n",
       "      <td>98021</td>\n",
       "    </tr>\n",
       "    <tr>\n",
       "      <th>0</th>\n",
       "      <td>Rio de Janeiro</td>\n",
       "      <td>urbana</td>\n",
       "      <td>81912</td>\n",
       "      <td>87405</td>\n",
       "    </tr>\n",
       "  </tbody>\n",
       "</table>\n",
       "</div>"
      ],
      "text/plain": [
       "               uf situacao  total_por_situacao   total\n",
       "4    Minas Gerais   urbana               76102  103096\n",
       "5    Minas Gerais    rural               26994  103096\n",
       "2       São Paulo   urbana               80956   98021\n",
       "3       São Paulo    rural               17065   98021\n",
       "0  Rio de Janeiro   urbana               81912   87405"
      ]
     },
     "execution_count": 48,
     "metadata": {},
     "output_type": "execute_result"
    }
   ],
   "source": [
    "df_04_final = df_04_merge.rename(columns={\"total_x\":\"total_por_situacao\",\"total_y\":\"total\"})\n",
    "df_04_final = df_04_final.sort_values(\"total\",ascending=False)\n",
    "df_04_final.head()"
   ]
  },
  {
   "cell_type": "code",
   "execution_count": null,
   "metadata": {},
   "outputs": [],
   "source": [
    "fig_3 = px.bar(df_04_final, x=\"uf\", y=\"total_por_situacao\", color=\"situacao\", title=\"Ditribuição da população da pesquisa por situação\",\n",
    "             labels=dict(uf=\"Estado\", total_por_situacao=\"Nº de entrevistados\", situacao=\"Situação\"))\n",
    "fig_3.update_layout(title_x=0.5)\n",
    "#plotly.offline.plot(fig_3, filename = 'br_distribuicao_populacao.html', auto_play=False, auto_open=False)\n",
    "fig_3.show()"
   ]
  },
  {
   "cell_type": "code",
   "execution_count": 63,
   "metadata": {},
   "outputs": [],
   "source": [
    "df_05 = df_03_replaced.drop(columns=[\"mes\"])"
   ]
  },
  {
   "cell_type": "code",
   "execution_count": 64,
   "metadata": {},
   "outputs": [
    {
     "data": {
      "text/html": [
       "<div>\n",
       "<style scoped>\n",
       "    .dataframe tbody tr th:only-of-type {\n",
       "        vertical-align: middle;\n",
       "    }\n",
       "\n",
       "    .dataframe tbody tr th {\n",
       "        vertical-align: top;\n",
       "    }\n",
       "\n",
       "    .dataframe thead th {\n",
       "        text-align: right;\n",
       "    }\n",
       "</style>\n",
       "<table border=\"1\" class=\"dataframe\">\n",
       "  <thead>\n",
       "    <tr style=\"text-align: right;\">\n",
       "      <th></th>\n",
       "      <th>uf</th>\n",
       "      <th>febre_tosse_dor_cabeca</th>\n",
       "    </tr>\n",
       "  </thead>\n",
       "  <tbody>\n",
       "    <tr>\n",
       "      <th>0</th>\n",
       "      <td>MT</td>\n",
       "      <td>87</td>\n",
       "    </tr>\n",
       "    <tr>\n",
       "      <th>1</th>\n",
       "      <td>GO</td>\n",
       "      <td>85</td>\n",
       "    </tr>\n",
       "    <tr>\n",
       "      <th>2</th>\n",
       "      <td>RS</td>\n",
       "      <td>75</td>\n",
       "    </tr>\n",
       "    <tr>\n",
       "      <th>3</th>\n",
       "      <td>MG</td>\n",
       "      <td>69</td>\n",
       "    </tr>\n",
       "    <tr>\n",
       "      <th>4</th>\n",
       "      <td>SP</td>\n",
       "      <td>63</td>\n",
       "    </tr>\n",
       "    <tr>\n",
       "      <th>...</th>\n",
       "      <td>...</td>\n",
       "      <td>...</td>\n",
       "    </tr>\n",
       "    <tr>\n",
       "      <th>76</th>\n",
       "      <td>TO</td>\n",
       "      <td>18</td>\n",
       "    </tr>\n",
       "    <tr>\n",
       "      <th>77</th>\n",
       "      <td>MS</td>\n",
       "      <td>17</td>\n",
       "    </tr>\n",
       "    <tr>\n",
       "      <th>78</th>\n",
       "      <td>RN</td>\n",
       "      <td>9</td>\n",
       "    </tr>\n",
       "    <tr>\n",
       "      <th>79</th>\n",
       "      <td>SE</td>\n",
       "      <td>7</td>\n",
       "    </tr>\n",
       "    <tr>\n",
       "      <th>80</th>\n",
       "      <td>AP</td>\n",
       "      <td>2</td>\n",
       "    </tr>\n",
       "  </tbody>\n",
       "</table>\n",
       "<p>81 rows × 2 columns</p>\n",
       "</div>"
      ],
      "text/plain": [
       "    uf  febre_tosse_dor_cabeca\n",
       "0   MT                      87\n",
       "1   GO                      85\n",
       "2   RS                      75\n",
       "3   MG                      69\n",
       "4   SP                      63\n",
       "..  ..                     ...\n",
       "76  TO                      18\n",
       "77  MS                      17\n",
       "78  RN                       9\n",
       "79  SE                       7\n",
       "80  AP                       2\n",
       "\n",
       "[81 rows x 2 columns]"
      ]
     },
     "execution_count": 64,
     "metadata": {},
     "output_type": "execute_result"
    }
   ],
   "source": [
    "df_05"
   ]
  },
  {
   "cell_type": "code",
   "execution_count": 66,
   "metadata": {},
   "outputs": [
    {
     "data": {
      "text/plain": [
       "uf\n",
       "AC     72\n",
       "AL     96\n",
       "AM    136\n",
       "AP     22\n",
       "BA     82\n",
       "CE    116\n",
       "DF     87\n",
       "ES    113\n",
       "GO    193\n",
       "MA    147\n",
       "MG    205\n",
       "MS     81\n",
       "MT    161\n",
       "PA    161\n",
       "PB     71\n",
       "PE    112\n",
       "PI     50\n",
       "PR    150\n",
       "RJ    197\n",
       "RN     39\n",
       "RO     85\n",
       "RR    100\n",
       "RS    196\n",
       "SC    241\n",
       "SE     40\n",
       "SP    181\n",
       "TO     67\n",
       "Name: febre_tosse_dor_cabeca, dtype: int64"
      ]
     },
     "execution_count": 66,
     "metadata": {},
     "output_type": "execute_result"
    }
   ],
   "source": [
    "df_05_mes = df_05.groupby([\"uf\"])[\"febre_tosse_dor_cabeca\"].sum()\n",
    "df_05_mes"
   ]
  },
  {
   "cell_type": "code",
   "execution_count": 68,
   "metadata": {},
   "outputs": [
    {
     "data": {
      "text/plain": [
       "uf\n",
       "Acre                    18834\n",
       "Alagoas                 34450\n",
       "Amapá                    7677\n",
       "Amazonas                31355\n",
       "Bahia                   51310\n",
       "Ceará                   50536\n",
       "Distrito Federal        19906\n",
       "Espírito Santo          47511\n",
       "Goiás                   41977\n",
       "Maranhão                61200\n",
       "Mato Grosso             34156\n",
       "Mato Grosso do Sul      26434\n",
       "Minas Gerais           103096\n",
       "Paraná                  59984\n",
       "Paraíba                 29687\n",
       "Pará                    35764\n",
       "Pernambuco              50811\n",
       "Piauí                   25137\n",
       "Rio Grande do Norte     23552\n",
       "Rio Grande do Sul       66446\n",
       "Rio de Janeiro          87405\n",
       "Rondônia                16622\n",
       "Roraima                 16674\n",
       "Santa Catarina          70990\n",
       "Sergipe                 24216\n",
       "São Paulo               98021\n",
       "Tocantins               15446\n",
       "Name: total, dtype: int64"
      ]
     },
     "execution_count": 68,
     "metadata": {},
     "output_type": "execute_result"
    }
   ],
   "source": [
    "df_05_pop = df_04_final.groupby([\"uf\"])[\"total\"].first()\n",
    "df_05_pop"
   ]
  },
  {
   "cell_type": "code",
   "execution_count": 70,
   "metadata": {},
   "outputs": [],
   "source": [
    "dict_estado_uf={\"Acre\":\"AC\",\n",
    "                \"Alagoas\":\"AL\",\n",
    "                \"Amapá\":\"AP\",\n",
    "                \"Amazonas\":\"AM\",\n",
    "                \"Bahia\":\"BA\",\n",
    "                \"Ceará\":\"CE\",\n",
    "                \"Distrito Federal\":\"DF\",\n",
    "                \"Espírito Santo\":\"ES\",\n",
    "                \"Goiás\":\"GO\",\n",
    "                \"Maranhão\":\"MA\",\n",
    "                \"Mato Grosso\":\"MT\",\n",
    "                \"Mato Grosso do Sul\":\"MS\",\n",
    "                \"Minas Gerais\":\"MG\",\n",
    "                \"Paraná\":\"PR\",\n",
    "                \"Paraíba\":\"PB\",\n",
    "                \"Pará\":\"PA\",\n",
    "                \"Pernambuco\":\"PE\",\n",
    "                \"Piauí\":\"PI\",\n",
    "                \"Rio Grande do Norte\":\"RN\",\n",
    "                \"Rio Grande do Sul\":\"RS\",\n",
    "                \"Rio de Janeiro\":\"RJ\",\n",
    "                \"Rondônia\":\"RO\",\n",
    "                \"Roraima\":\"RR\",\n",
    "                \"Santa Catarina\":\"SC\",\n",
    "                \"Sergipe\":\"SE\",\n",
    "                \"São Paulo\":\"SP\",\n",
    "                \"Tocantins\":\"TO\"\n",
    "}"
   ]
  },
  {
   "cell_type": "code",
   "execution_count": 72,
   "metadata": {},
   "outputs": [],
   "source": [
    "df_05_pop = df_05_pop.to_frame()"
   ]
  },
  {
   "cell_type": "code",
   "execution_count": 79,
   "metadata": {},
   "outputs": [],
   "source": [
    "df_05_pop = df_05_pop.reset_index()\n"
   ]
  },
  {
   "cell_type": "code",
   "execution_count": 83,
   "metadata": {},
   "outputs": [],
   "source": [
    "df_05_pop = df_05_pop.replace({\"uf\":dict_estado_uf})\n"
   ]
  },
  {
   "cell_type": "code",
   "execution_count": 88,
   "metadata": {},
   "outputs": [],
   "source": [
    "df_05_mes = df_05_mes.to_frame()\n",
    "df_05_mes = df_05_mes.reset_index()"
   ]
  },
  {
   "cell_type": "code",
   "execution_count": 113,
   "metadata": {},
   "outputs": [],
   "source": [
    "df_05_final = df_05_mes.merge(df_05_pop)"
   ]
  },
  {
   "cell_type": "code",
   "execution_count": 114,
   "metadata": {},
   "outputs": [
    {
     "data": {
      "text/html": [
       "<div>\n",
       "<style scoped>\n",
       "    .dataframe tbody tr th:only-of-type {\n",
       "        vertical-align: middle;\n",
       "    }\n",
       "\n",
       "    .dataframe tbody tr th {\n",
       "        vertical-align: top;\n",
       "    }\n",
       "\n",
       "    .dataframe thead th {\n",
       "        text-align: right;\n",
       "    }\n",
       "</style>\n",
       "<table border=\"1\" class=\"dataframe\">\n",
       "  <thead>\n",
       "    <tr style=\"text-align: right;\">\n",
       "      <th></th>\n",
       "      <th>uf</th>\n",
       "      <th>febre_tosse_dor_cabeca</th>\n",
       "      <th>total</th>\n",
       "      <th>porcentagem</th>\n",
       "    </tr>\n",
       "  </thead>\n",
       "  <tbody>\n",
       "    <tr>\n",
       "      <th>21</th>\n",
       "      <td>RR</td>\n",
       "      <td>100</td>\n",
       "      <td>16674</td>\n",
       "      <td>0.005997</td>\n",
       "    </tr>\n",
       "    <tr>\n",
       "      <th>20</th>\n",
       "      <td>RO</td>\n",
       "      <td>85</td>\n",
       "      <td>16622</td>\n",
       "      <td>0.005114</td>\n",
       "    </tr>\n",
       "    <tr>\n",
       "      <th>12</th>\n",
       "      <td>MT</td>\n",
       "      <td>161</td>\n",
       "      <td>34156</td>\n",
       "      <td>0.004714</td>\n",
       "    </tr>\n",
       "    <tr>\n",
       "      <th>8</th>\n",
       "      <td>GO</td>\n",
       "      <td>193</td>\n",
       "      <td>41977</td>\n",
       "      <td>0.004598</td>\n",
       "    </tr>\n",
       "    <tr>\n",
       "      <th>13</th>\n",
       "      <td>PA</td>\n",
       "      <td>161</td>\n",
       "      <td>35764</td>\n",
       "      <td>0.004502</td>\n",
       "    </tr>\n",
       "    <tr>\n",
       "      <th>6</th>\n",
       "      <td>DF</td>\n",
       "      <td>87</td>\n",
       "      <td>19906</td>\n",
       "      <td>0.004371</td>\n",
       "    </tr>\n",
       "    <tr>\n",
       "      <th>26</th>\n",
       "      <td>TO</td>\n",
       "      <td>67</td>\n",
       "      <td>15446</td>\n",
       "      <td>0.004338</td>\n",
       "    </tr>\n",
       "    <tr>\n",
       "      <th>2</th>\n",
       "      <td>AM</td>\n",
       "      <td>136</td>\n",
       "      <td>31355</td>\n",
       "      <td>0.004337</td>\n",
       "    </tr>\n",
       "    <tr>\n",
       "      <th>0</th>\n",
       "      <td>AC</td>\n",
       "      <td>72</td>\n",
       "      <td>18834</td>\n",
       "      <td>0.003823</td>\n",
       "    </tr>\n",
       "    <tr>\n",
       "      <th>23</th>\n",
       "      <td>SC</td>\n",
       "      <td>241</td>\n",
       "      <td>70990</td>\n",
       "      <td>0.003395</td>\n",
       "    </tr>\n",
       "    <tr>\n",
       "      <th>11</th>\n",
       "      <td>MS</td>\n",
       "      <td>81</td>\n",
       "      <td>26434</td>\n",
       "      <td>0.003064</td>\n",
       "    </tr>\n",
       "    <tr>\n",
       "      <th>22</th>\n",
       "      <td>RS</td>\n",
       "      <td>196</td>\n",
       "      <td>66446</td>\n",
       "      <td>0.002950</td>\n",
       "    </tr>\n",
       "    <tr>\n",
       "      <th>3</th>\n",
       "      <td>AP</td>\n",
       "      <td>22</td>\n",
       "      <td>7677</td>\n",
       "      <td>0.002866</td>\n",
       "    </tr>\n",
       "    <tr>\n",
       "      <th>1</th>\n",
       "      <td>AL</td>\n",
       "      <td>96</td>\n",
       "      <td>34450</td>\n",
       "      <td>0.002787</td>\n",
       "    </tr>\n",
       "    <tr>\n",
       "      <th>17</th>\n",
       "      <td>PR</td>\n",
       "      <td>150</td>\n",
       "      <td>59984</td>\n",
       "      <td>0.002501</td>\n",
       "    </tr>\n",
       "    <tr>\n",
       "      <th>9</th>\n",
       "      <td>MA</td>\n",
       "      <td>147</td>\n",
       "      <td>61200</td>\n",
       "      <td>0.002402</td>\n",
       "    </tr>\n",
       "    <tr>\n",
       "      <th>14</th>\n",
       "      <td>PB</td>\n",
       "      <td>71</td>\n",
       "      <td>29687</td>\n",
       "      <td>0.002392</td>\n",
       "    </tr>\n",
       "    <tr>\n",
       "      <th>7</th>\n",
       "      <td>ES</td>\n",
       "      <td>113</td>\n",
       "      <td>47511</td>\n",
       "      <td>0.002378</td>\n",
       "    </tr>\n",
       "    <tr>\n",
       "      <th>5</th>\n",
       "      <td>CE</td>\n",
       "      <td>116</td>\n",
       "      <td>50536</td>\n",
       "      <td>0.002295</td>\n",
       "    </tr>\n",
       "    <tr>\n",
       "      <th>18</th>\n",
       "      <td>RJ</td>\n",
       "      <td>197</td>\n",
       "      <td>87405</td>\n",
       "      <td>0.002254</td>\n",
       "    </tr>\n",
       "    <tr>\n",
       "      <th>15</th>\n",
       "      <td>PE</td>\n",
       "      <td>112</td>\n",
       "      <td>50811</td>\n",
       "      <td>0.002204</td>\n",
       "    </tr>\n",
       "    <tr>\n",
       "      <th>16</th>\n",
       "      <td>PI</td>\n",
       "      <td>50</td>\n",
       "      <td>25137</td>\n",
       "      <td>0.001989</td>\n",
       "    </tr>\n",
       "    <tr>\n",
       "      <th>10</th>\n",
       "      <td>MG</td>\n",
       "      <td>205</td>\n",
       "      <td>103096</td>\n",
       "      <td>0.001988</td>\n",
       "    </tr>\n",
       "    <tr>\n",
       "      <th>25</th>\n",
       "      <td>SP</td>\n",
       "      <td>181</td>\n",
       "      <td>98021</td>\n",
       "      <td>0.001847</td>\n",
       "    </tr>\n",
       "    <tr>\n",
       "      <th>19</th>\n",
       "      <td>RN</td>\n",
       "      <td>39</td>\n",
       "      <td>23552</td>\n",
       "      <td>0.001656</td>\n",
       "    </tr>\n",
       "    <tr>\n",
       "      <th>24</th>\n",
       "      <td>SE</td>\n",
       "      <td>40</td>\n",
       "      <td>24216</td>\n",
       "      <td>0.001652</td>\n",
       "    </tr>\n",
       "    <tr>\n",
       "      <th>4</th>\n",
       "      <td>BA</td>\n",
       "      <td>82</td>\n",
       "      <td>51310</td>\n",
       "      <td>0.001598</td>\n",
       "    </tr>\n",
       "  </tbody>\n",
       "</table>\n",
       "</div>"
      ],
      "text/plain": [
       "    uf  febre_tosse_dor_cabeca   total  porcentagem\n",
       "21  RR                     100   16674     0.005997\n",
       "20  RO                      85   16622     0.005114\n",
       "12  MT                     161   34156     0.004714\n",
       "8   GO                     193   41977     0.004598\n",
       "13  PA                     161   35764     0.004502\n",
       "6   DF                      87   19906     0.004371\n",
       "26  TO                      67   15446     0.004338\n",
       "2   AM                     136   31355     0.004337\n",
       "0   AC                      72   18834     0.003823\n",
       "23  SC                     241   70990     0.003395\n",
       "11  MS                      81   26434     0.003064\n",
       "22  RS                     196   66446     0.002950\n",
       "3   AP                      22    7677     0.002866\n",
       "1   AL                      96   34450     0.002787\n",
       "17  PR                     150   59984     0.002501\n",
       "9   MA                     147   61200     0.002402\n",
       "14  PB                      71   29687     0.002392\n",
       "7   ES                     113   47511     0.002378\n",
       "5   CE                     116   50536     0.002295\n",
       "18  RJ                     197   87405     0.002254\n",
       "15  PE                     112   50811     0.002204\n",
       "16  PI                      50   25137     0.001989\n",
       "10  MG                     205  103096     0.001988\n",
       "25  SP                     181   98021     0.001847\n",
       "19  RN                      39   23552     0.001656\n",
       "24  SE                      40   24216     0.001652\n",
       "4   BA                      82   51310     0.001598"
      ]
     },
     "execution_count": 114,
     "metadata": {},
     "output_type": "execute_result"
    }
   ],
   "source": [
    "df_05_final[\"porcentagem\"] = df_05_final[\"febre_tosse_dor_cabeca\"]/df_05_final[\"total\"]\n",
    "df_05_final = df_05_final.sort_values(\"porcentagem\",ascending=False)\n",
    "df_05_final"
   ]
  },
  {
   "cell_type": "code",
   "execution_count": 203,
   "metadata": {},
   "outputs": [
    {
     "data": {
      "text/plain": [
       "'pt_BR.UTF-8'"
      ]
     },
     "execution_count": 203,
     "metadata": {},
     "output_type": "execute_result"
    }
   ],
   "source": [
    "import locale\n",
    "locale.setlocale(locale.LC_ALL, 'pt_BR.UTF-8')"
   ]
  },
  {
   "cell_type": "code",
   "execution_count": 232,
   "metadata": {},
   "outputs": [
    {
     "data": {
      "application/vnd.plotly.v1+json": {
       "config": {
        "plotlyServerURL": "https://plot.ly"
       },
       "data": [
        {
         "name": "Total entrevistados",
         "textfont": {
          "size": 14
         },
         "type": "bar",
         "x": [
          "RR",
          "RO",
          "MT",
          "GO",
          "PA"
         ],
         "y": [
          16674,
          16622,
          34156,
          41977,
          35764
         ]
        },
        {
         "marker": {
          "size": 50,
          "symbol": "circle"
         },
         "mode": "text+lines+markers",
         "name": "Porcentagem casos",
         "textfont": {
          "color": "black",
          "size": 14
         },
         "texttemplate": "%{y}",
         "type": "scatter",
         "x": [
          "RR",
          "RO",
          "MT",
          "GO",
          "PA"
         ],
         "y": [
          0.005997361161089121,
          0.005113704728672844,
          0.004713666705703244,
          0.004597755913952879,
          0.004501733586847109
         ],
         "yaxis": "y2"
        }
       ],
       "layout": {
        "legend": {
         "orientation": "h"
        },
        "separators": ",.",
        "template": {
         "data": {
          "bar": [
           {
            "error_x": {
             "color": "#2a3f5f"
            },
            "error_y": {
             "color": "#2a3f5f"
            },
            "marker": {
             "line": {
              "color": "#E5ECF6",
              "width": 0.5
             },
             "pattern": {
              "fillmode": "overlay",
              "size": 10,
              "solidity": 0.2
             }
            },
            "type": "bar"
           }
          ],
          "barpolar": [
           {
            "marker": {
             "line": {
              "color": "#E5ECF6",
              "width": 0.5
             },
             "pattern": {
              "fillmode": "overlay",
              "size": 10,
              "solidity": 0.2
             }
            },
            "type": "barpolar"
           }
          ],
          "carpet": [
           {
            "aaxis": {
             "endlinecolor": "#2a3f5f",
             "gridcolor": "white",
             "linecolor": "white",
             "minorgridcolor": "white",
             "startlinecolor": "#2a3f5f"
            },
            "baxis": {
             "endlinecolor": "#2a3f5f",
             "gridcolor": "white",
             "linecolor": "white",
             "minorgridcolor": "white",
             "startlinecolor": "#2a3f5f"
            },
            "type": "carpet"
           }
          ],
          "choropleth": [
           {
            "colorbar": {
             "outlinewidth": 0,
             "ticks": ""
            },
            "type": "choropleth"
           }
          ],
          "contour": [
           {
            "colorbar": {
             "outlinewidth": 0,
             "ticks": ""
            },
            "colorscale": [
             [
              0,
              "#0d0887"
             ],
             [
              0.1111111111111111,
              "#46039f"
             ],
             [
              0.2222222222222222,
              "#7201a8"
             ],
             [
              0.3333333333333333,
              "#9c179e"
             ],
             [
              0.4444444444444444,
              "#bd3786"
             ],
             [
              0.5555555555555556,
              "#d8576b"
             ],
             [
              0.6666666666666666,
              "#ed7953"
             ],
             [
              0.7777777777777778,
              "#fb9f3a"
             ],
             [
              0.8888888888888888,
              "#fdca26"
             ],
             [
              1,
              "#f0f921"
             ]
            ],
            "type": "contour"
           }
          ],
          "contourcarpet": [
           {
            "colorbar": {
             "outlinewidth": 0,
             "ticks": ""
            },
            "type": "contourcarpet"
           }
          ],
          "heatmap": [
           {
            "colorbar": {
             "outlinewidth": 0,
             "ticks": ""
            },
            "colorscale": [
             [
              0,
              "#0d0887"
             ],
             [
              0.1111111111111111,
              "#46039f"
             ],
             [
              0.2222222222222222,
              "#7201a8"
             ],
             [
              0.3333333333333333,
              "#9c179e"
             ],
             [
              0.4444444444444444,
              "#bd3786"
             ],
             [
              0.5555555555555556,
              "#d8576b"
             ],
             [
              0.6666666666666666,
              "#ed7953"
             ],
             [
              0.7777777777777778,
              "#fb9f3a"
             ],
             [
              0.8888888888888888,
              "#fdca26"
             ],
             [
              1,
              "#f0f921"
             ]
            ],
            "type": "heatmap"
           }
          ],
          "heatmapgl": [
           {
            "colorbar": {
             "outlinewidth": 0,
             "ticks": ""
            },
            "colorscale": [
             [
              0,
              "#0d0887"
             ],
             [
              0.1111111111111111,
              "#46039f"
             ],
             [
              0.2222222222222222,
              "#7201a8"
             ],
             [
              0.3333333333333333,
              "#9c179e"
             ],
             [
              0.4444444444444444,
              "#bd3786"
             ],
             [
              0.5555555555555556,
              "#d8576b"
             ],
             [
              0.6666666666666666,
              "#ed7953"
             ],
             [
              0.7777777777777778,
              "#fb9f3a"
             ],
             [
              0.8888888888888888,
              "#fdca26"
             ],
             [
              1,
              "#f0f921"
             ]
            ],
            "type": "heatmapgl"
           }
          ],
          "histogram": [
           {
            "marker": {
             "pattern": {
              "fillmode": "overlay",
              "size": 10,
              "solidity": 0.2
             }
            },
            "type": "histogram"
           }
          ],
          "histogram2d": [
           {
            "colorbar": {
             "outlinewidth": 0,
             "ticks": ""
            },
            "colorscale": [
             [
              0,
              "#0d0887"
             ],
             [
              0.1111111111111111,
              "#46039f"
             ],
             [
              0.2222222222222222,
              "#7201a8"
             ],
             [
              0.3333333333333333,
              "#9c179e"
             ],
             [
              0.4444444444444444,
              "#bd3786"
             ],
             [
              0.5555555555555556,
              "#d8576b"
             ],
             [
              0.6666666666666666,
              "#ed7953"
             ],
             [
              0.7777777777777778,
              "#fb9f3a"
             ],
             [
              0.8888888888888888,
              "#fdca26"
             ],
             [
              1,
              "#f0f921"
             ]
            ],
            "type": "histogram2d"
           }
          ],
          "histogram2dcontour": [
           {
            "colorbar": {
             "outlinewidth": 0,
             "ticks": ""
            },
            "colorscale": [
             [
              0,
              "#0d0887"
             ],
             [
              0.1111111111111111,
              "#46039f"
             ],
             [
              0.2222222222222222,
              "#7201a8"
             ],
             [
              0.3333333333333333,
              "#9c179e"
             ],
             [
              0.4444444444444444,
              "#bd3786"
             ],
             [
              0.5555555555555556,
              "#d8576b"
             ],
             [
              0.6666666666666666,
              "#ed7953"
             ],
             [
              0.7777777777777778,
              "#fb9f3a"
             ],
             [
              0.8888888888888888,
              "#fdca26"
             ],
             [
              1,
              "#f0f921"
             ]
            ],
            "type": "histogram2dcontour"
           }
          ],
          "mesh3d": [
           {
            "colorbar": {
             "outlinewidth": 0,
             "ticks": ""
            },
            "type": "mesh3d"
           }
          ],
          "parcoords": [
           {
            "line": {
             "colorbar": {
              "outlinewidth": 0,
              "ticks": ""
             }
            },
            "type": "parcoords"
           }
          ],
          "pie": [
           {
            "automargin": true,
            "type": "pie"
           }
          ],
          "scatter": [
           {
            "fillpattern": {
             "fillmode": "overlay",
             "size": 10,
             "solidity": 0.2
            },
            "type": "scatter"
           }
          ],
          "scatter3d": [
           {
            "line": {
             "colorbar": {
              "outlinewidth": 0,
              "ticks": ""
             }
            },
            "marker": {
             "colorbar": {
              "outlinewidth": 0,
              "ticks": ""
             }
            },
            "type": "scatter3d"
           }
          ],
          "scattercarpet": [
           {
            "marker": {
             "colorbar": {
              "outlinewidth": 0,
              "ticks": ""
             }
            },
            "type": "scattercarpet"
           }
          ],
          "scattergeo": [
           {
            "marker": {
             "colorbar": {
              "outlinewidth": 0,
              "ticks": ""
             }
            },
            "type": "scattergeo"
           }
          ],
          "scattergl": [
           {
            "marker": {
             "colorbar": {
              "outlinewidth": 0,
              "ticks": ""
             }
            },
            "type": "scattergl"
           }
          ],
          "scattermapbox": [
           {
            "marker": {
             "colorbar": {
              "outlinewidth": 0,
              "ticks": ""
             }
            },
            "type": "scattermapbox"
           }
          ],
          "scatterpolar": [
           {
            "marker": {
             "colorbar": {
              "outlinewidth": 0,
              "ticks": ""
             }
            },
            "type": "scatterpolar"
           }
          ],
          "scatterpolargl": [
           {
            "marker": {
             "colorbar": {
              "outlinewidth": 0,
              "ticks": ""
             }
            },
            "type": "scatterpolargl"
           }
          ],
          "scatterternary": [
           {
            "marker": {
             "colorbar": {
              "outlinewidth": 0,
              "ticks": ""
             }
            },
            "type": "scatterternary"
           }
          ],
          "surface": [
           {
            "colorbar": {
             "outlinewidth": 0,
             "ticks": ""
            },
            "colorscale": [
             [
              0,
              "#0d0887"
             ],
             [
              0.1111111111111111,
              "#46039f"
             ],
             [
              0.2222222222222222,
              "#7201a8"
             ],
             [
              0.3333333333333333,
              "#9c179e"
             ],
             [
              0.4444444444444444,
              "#bd3786"
             ],
             [
              0.5555555555555556,
              "#d8576b"
             ],
             [
              0.6666666666666666,
              "#ed7953"
             ],
             [
              0.7777777777777778,
              "#fb9f3a"
             ],
             [
              0.8888888888888888,
              "#fdca26"
             ],
             [
              1,
              "#f0f921"
             ]
            ],
            "type": "surface"
           }
          ],
          "table": [
           {
            "cells": {
             "fill": {
              "color": "#EBF0F8"
             },
             "line": {
              "color": "white"
             }
            },
            "header": {
             "fill": {
              "color": "#C8D4E3"
             },
             "line": {
              "color": "white"
             }
            },
            "type": "table"
           }
          ]
         },
         "layout": {
          "annotationdefaults": {
           "arrowcolor": "#2a3f5f",
           "arrowhead": 0,
           "arrowwidth": 1
          },
          "autotypenumbers": "strict",
          "coloraxis": {
           "colorbar": {
            "outlinewidth": 0,
            "ticks": ""
           }
          },
          "colorscale": {
           "diverging": [
            [
             0,
             "#8e0152"
            ],
            [
             0.1,
             "#c51b7d"
            ],
            [
             0.2,
             "#de77ae"
            ],
            [
             0.3,
             "#f1b6da"
            ],
            [
             0.4,
             "#fde0ef"
            ],
            [
             0.5,
             "#f7f7f7"
            ],
            [
             0.6,
             "#e6f5d0"
            ],
            [
             0.7,
             "#b8e186"
            ],
            [
             0.8,
             "#7fbc41"
            ],
            [
             0.9,
             "#4d9221"
            ],
            [
             1,
             "#276419"
            ]
           ],
           "sequential": [
            [
             0,
             "#0d0887"
            ],
            [
             0.1111111111111111,
             "#46039f"
            ],
            [
             0.2222222222222222,
             "#7201a8"
            ],
            [
             0.3333333333333333,
             "#9c179e"
            ],
            [
             0.4444444444444444,
             "#bd3786"
            ],
            [
             0.5555555555555556,
             "#d8576b"
            ],
            [
             0.6666666666666666,
             "#ed7953"
            ],
            [
             0.7777777777777778,
             "#fb9f3a"
            ],
            [
             0.8888888888888888,
             "#fdca26"
            ],
            [
             1,
             "#f0f921"
            ]
           ],
           "sequentialminus": [
            [
             0,
             "#0d0887"
            ],
            [
             0.1111111111111111,
             "#46039f"
            ],
            [
             0.2222222222222222,
             "#7201a8"
            ],
            [
             0.3333333333333333,
             "#9c179e"
            ],
            [
             0.4444444444444444,
             "#bd3786"
            ],
            [
             0.5555555555555556,
             "#d8576b"
            ],
            [
             0.6666666666666666,
             "#ed7953"
            ],
            [
             0.7777777777777778,
             "#fb9f3a"
            ],
            [
             0.8888888888888888,
             "#fdca26"
            ],
            [
             1,
             "#f0f921"
            ]
           ]
          },
          "colorway": [
           "#636efa",
           "#EF553B",
           "#00cc96",
           "#ab63fa",
           "#FFA15A",
           "#19d3f3",
           "#FF6692",
           "#B6E880",
           "#FF97FF",
           "#FECB52"
          ],
          "font": {
           "color": "#2a3f5f"
          },
          "geo": {
           "bgcolor": "white",
           "lakecolor": "white",
           "landcolor": "#E5ECF6",
           "showlakes": true,
           "showland": true,
           "subunitcolor": "white"
          },
          "hoverlabel": {
           "align": "left"
          },
          "hovermode": "closest",
          "mapbox": {
           "style": "light"
          },
          "paper_bgcolor": "white",
          "plot_bgcolor": "#E5ECF6",
          "polar": {
           "angularaxis": {
            "gridcolor": "white",
            "linecolor": "white",
            "ticks": ""
           },
           "bgcolor": "#E5ECF6",
           "radialaxis": {
            "gridcolor": "white",
            "linecolor": "white",
            "ticks": ""
           }
          },
          "scene": {
           "xaxis": {
            "backgroundcolor": "#E5ECF6",
            "gridcolor": "white",
            "gridwidth": 2,
            "linecolor": "white",
            "showbackground": true,
            "ticks": "",
            "zerolinecolor": "white"
           },
           "yaxis": {
            "backgroundcolor": "#E5ECF6",
            "gridcolor": "white",
            "gridwidth": 2,
            "linecolor": "white",
            "showbackground": true,
            "ticks": "",
            "zerolinecolor": "white"
           },
           "zaxis": {
            "backgroundcolor": "#E5ECF6",
            "gridcolor": "white",
            "gridwidth": 2,
            "linecolor": "white",
            "showbackground": true,
            "ticks": "",
            "zerolinecolor": "white"
           }
          },
          "shapedefaults": {
           "line": {
            "color": "#2a3f5f"
           }
          },
          "ternary": {
           "aaxis": {
            "gridcolor": "white",
            "linecolor": "white",
            "ticks": ""
           },
           "baxis": {
            "gridcolor": "white",
            "linecolor": "white",
            "ticks": ""
           },
           "bgcolor": "#E5ECF6",
           "caxis": {
            "gridcolor": "white",
            "linecolor": "white",
            "ticks": ""
           }
          },
          "title": {
           "x": 0.05
          },
          "xaxis": {
           "automargin": true,
           "gridcolor": "white",
           "linecolor": "white",
           "ticks": "",
           "title": {
            "standoff": 15
           },
           "zerolinecolor": "white",
           "zerolinewidth": 2
          },
          "yaxis": {
           "automargin": true,
           "gridcolor": "white",
           "linecolor": "white",
           "ticks": "",
           "title": {
            "standoff": 15
           },
           "zerolinecolor": "white",
           "zerolinewidth": 2
          }
         }
        },
        "title": {
         "font": {
          "size": 14
         },
         "text": "Porcentagem de casos de febre, tosse e dor na cabeça dos cinco estados mais afetados",
         "x": 0.5
        },
        "yaxis": {
         "side": "left",
         "title": {
          "text": "Total de entrevistados"
         }
        },
        "yaxis2": {
         "overlaying": "y",
         "side": "right",
         "tickformat": ".2%",
         "tickmode": "sync",
         "title": {
          "text": "Porcentagem de casos"
         }
        }
       }
      }
     },
     "metadata": {},
     "output_type": "display_data"
    }
   ],
   "source": [
    "fig_04 = go.Figure(\n",
    "    data=go.Bar(\n",
    "        x=df_05_final[\"uf\"].head().values,\n",
    "        y=df_05_final[\"total\"].head().values,\n",
    "        name=\"Total entrevistados\"\n",
    "    )\n",
    ")\n",
    "\n",
    "fig_04.add_trace(\n",
    "    go.Scatter(\n",
    "        x=df_05_final[\"uf\"].head().values,\n",
    "        y=df_05_final[\"porcentagem\"].head().values,\n",
    "        yaxis=\"y2\",\n",
    "        name=\"Porcentagem casos\",\n",
    "        mode=\"text+lines+markers\",\n",
    "        texttemplate=\"%{y}\",\n",
    "        textfont=dict(\n",
    "                color=\"black\",\n",
    "                ),\n",
    "        marker=dict(\n",
    "            symbol=\"circle\",\n",
    "            size=50,\n",
    "        ),\n",
    "    )\n",
    ")\n",
    "\n",
    "fig_04.update_traces(textfont_size=14)\n",
    "\n",
    "\n",
    "fig_04.update_layout(\n",
    "    separators=\",.\",\n",
    "    title_text=\"Porcentagem de casos de febre, tosse e dor na cabeça dos cinco estados mais afetados\", \n",
    "    title_x=0.5,\n",
    "    title=dict(font=dict(size=14)),\n",
    "    legend=dict(orientation=\"h\"),\n",
    "    yaxis=dict(\n",
    "        title=dict(text=\"Total de entrevistados\"),\n",
    "        side=\"left\",\n",
    "    ),\n",
    "    yaxis2=dict(\n",
    "        title=dict(text=\"Porcentagem de casos\"),\n",
    "        side=\"right\",\n",
    "        overlaying=\"y\",\n",
    "        tickmode=\"sync\",\n",
    "        tickformat= \".2%\"\n",
    "    ),\n",
    ")\n",
    "plotly.offline.plot(fig_04, filename = 'br_porcentagem_casos.html', auto_play=False, auto_open=False)\n",
    "fig_04.show()"
   ]
  },
  {
   "cell_type": "markdown",
   "metadata": {},
   "source": [
    "## Links"
   ]
  },
  {
   "cell_type": "markdown",
   "metadata": {},
   "source": [
    "###### https://andre-kuniyoshi.medium.com/plotly-choropleth-ainteractive-sao-paulo-cities-map-61089cd7ba2d\n",
    "###### https://www.kaggle.com/datasets/thiagobodruk/brazil-geojson\n",
    "###### https://github.com/tbrugz/geodata-br\n",
    "###### https://plotly.com/python/mapbox-county-choropleth/\n",
    "###### https://plotly.github.io/plotly.py-docs/generated/plotly.express.choropleth_mapbox.html"
   ]
  }
 ],
 "metadata": {
  "kernelspec": {
   "display_name": "Python 3",
   "language": "python",
   "name": "python3"
  },
  "language_info": {
   "codemirror_mode": {
    "name": "ipython",
    "version": 3
   },
   "file_extension": ".py",
   "mimetype": "text/x-python",
   "name": "python",
   "nbconvert_exporter": "python",
   "pygments_lexer": "ipython3",
   "version": "3.11.1"
  },
  "orig_nbformat": 4
 },
 "nbformat": 4,
 "nbformat_minor": 2
}
